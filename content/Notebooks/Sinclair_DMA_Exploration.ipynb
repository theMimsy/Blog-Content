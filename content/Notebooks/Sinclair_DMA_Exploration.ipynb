{
 "cells": [
  {
   "cell_type": "markdown",
   "metadata": {},
   "source": [
    "You can find the story that goes with this code [right here](http://mimsy.io/sinclair_1_3.html).\n",
    "\n",
    "## Sinclair DMA Exploration\n",
    "\n",
    "This JUPYTER notebook explores Nielsen Designated Market Areas (DMAs) in combination with data on the Sinclair Broadcast Group. Here, we will attempt to use Nielson DMAs to document/visualize the spread and growth of Sinclair over the last several decades.\n",
    "\n",
    "This post mirrors an earlier notebook titled **Sinclair Station Exploration** and uses data generated in that notebook. As in **Sinclair Station Exploration**, I'll assume that the current working directory is a clone of [this github repo](https://github.com/theMimsy/Blog---Sinclair-Broadcast-Group). If you want to find the earlier notebook, you can find it [here](http://mimsy.io/sinclair-station-exploration.html).\n",
    "\n",
    "To analyze, combine, and graph the DMA/Sinclair data, we'll first load some libraries that we'll need throughout the notebook. These include:\n",
    "\n",
    "+ `dplyr`: Used for `group_by()`, `filter()`, `summarize()`, and `mutate()` as well as `%>%` pipes.\n",
    "+ `sp`: The base R library used for manipulating geospatial data.\n",
    "+ `rgdal`: The R implementation of Frank Warmerdam's Geospatial Data Abstraction Library (GDAL). Allows us to read and manipulate [shapefiles](https://en.wikipedia.org/wiki/Shapefile).\n",
    "+ `maps`: A very simple R library containing outlines of the USA and USA states. Although we won't be using these, this library also contains world maps, locations of large US cities, and the locations of large world cities.\n",
    "+ `rjson`: Allows the user to convert [JSON](http://www.json.org/) objects to R data frames.\n",
    "+ `geojsonio`: A library that allows us to convert spatial data from [GeoJSON](https://en.wikipedia.org/wiki/GeoJSON) format to data frames (and vice-versa). We'll need this for plotting since my tool of choice (`ggplot2`) requires clean data frames.\n",
    "+ `ggplot2`: A flexible plotting tool that generates graphics using a [layered grammar of graphics](http://byrneslab.net/classes/biol607/readings/wickham_layered-grammar.pdf). If you want to know more, I'd recommend spending a bit of time reading through chapters 1 and 2 in [Hadley Wickham's ggplot2 book](http://ms.mcmaster.ca/~bolker/misc/ggplot2-book.pdf).\n",
    "+ `broom`: Used for cleaning up arbitrary R objects into tidy data frames.\n",
    "+ `RColorBrewer`: Pretty colors for our graphs."
   ]
  },
  {
   "cell_type": "code",
   "execution_count": 3,
   "metadata": {},
   "outputs": [
    {
     "name": "stderr",
     "output_type": "stream",
     "text": [
      "rgdal: version: 1.2-8, (SVN revision 663)\n",
      " Geospatial Data Abstraction Library extensions to R successfully loaded\n",
      " Loaded GDAL runtime: GDAL 2.0.1, released 2015/09/15\n",
      " Path to GDAL shared files: C:/Users/dmino/Documents/R/win-library/3.4/rgdal/gdal\n",
      " Loaded PROJ.4 runtime: Rel. 4.9.2, 08 September 2015, [PJ_VERSION: 492]\n",
      " Path to PROJ.4 shared files: C:/Users/dmino/Documents/R/win-library/3.4/rgdal/proj\n",
      " Linking to sp version: 1.2-5 \n"
     ]
    }
   ],
   "source": [
    "# Load up some libraries\n",
    "library(dplyr, warn.conflicts = FALSE)\n",
    "library(sp)\n",
    "library(rgdal, warn.conflicts = FALSE)\n",
    "library(maps)\n",
    "library(rjson)\n",
    "library(geojsonio, warn.conflicts = FALSE)\n",
    "library(ggplot2)\n",
    "library(broom)\n",
    "library(stringr)\n",
    "library(RColorBrewer)"
   ]
  },
  {
   "cell_type": "markdown",
   "metadata": {},
   "source": [
    "### Examining the Data\n",
    "\n",
    "Our first order of business is to identify the data we have available. Our second order of business is to identify what we want to do with that data. \n",
    "\n",
    "#### First Order of Business\n",
    "\n",
    "We have two sources of data for use in this notebook. The first source `sinclair_station_all.csv` contains all the data we cleaned and generated in the previous post called **Sinclair Station Exploration**. As the name implies, this csv file holds information on TV stations owned by Sinclair. The columns of the csv include the station name, transmitter power, location, and the market of the station. Since we already cleaned this data beforehand, we don't need to do any work here."
   ]
  },
  {
   "cell_type": "code",
   "execution_count": 4,
   "metadata": {
    "collapsed": true
   },
   "outputs": [],
   "source": [
    "sinclair_station_all_path <- \"sinclair_station_all.csv\"\n",
    "sinclair_station_all_df <- read.csv(sinclair_station_all_path)"
   ]
  },
  {
   "cell_type": "code",
   "execution_count": 5,
   "metadata": {
    "scrolled": false
   },
   "outputs": [
    {
     "data": {
      "text/html": [
       "<table>\n",
       "<thead><tr><th scope=col>Market</th><th scope=col>Station</th><th scope=col>Channel.RF.</th><th scope=col>Year</th><th scope=col>Power.kW</th><th scope=col>Location</th><th scope=col>Latitude</th><th scope=col>Longitude</th><th scope=col>Year.Start</th><th scope=col>Year.End</th></tr></thead>\n",
       "<tbody>\n",
       "\t<tr><td>Birmingham - Tuscaloosa - Anniston, AL</td><td>WTTO                                  </td><td>21 (28)                               </td><td>1995                                  </td><td> 765                                  </td><td>33.484583; -86.807083                 </td><td>33.48458                              </td><td>-86.80708                             </td><td>1995                                  </td><td>NA                                    </td></tr>\n",
       "\t<tr><td>Birmingham - Tuscaloosa - Anniston, AL</td><td>WABM                                  </td><td>68 (36)                               </td><td>2001                                  </td><td> 885                                  </td><td>33.484583; -86.807056                 </td><td>33.48458                              </td><td>-86.80706                             </td><td>2001                                  </td><td>NA                                    </td></tr>\n",
       "\t<tr><td>Birmingham - Tuscaloosa - Anniston, AL</td><td>WDBB                                  </td><td>17 (18)                               </td><td>1995                                  </td><td>  NA                                  </td><td>                                      </td><td>      NA                              </td><td>       NA                             </td><td>1995                                  </td><td>NA                                    </td></tr>\n",
       "\t<tr><td>Birmingham - Tuscaloosa - Anniston, AL</td><td>WBMA-LD                               </td><td>58 (40)                               </td><td>2014                                  </td><td> 885                                  </td><td>33.484583; -86.807056                 </td><td>33.48458                              </td><td>-86.80706                             </td><td>2014                                  </td><td>NA                                    </td></tr>\n",
       "\t<tr><td><span style=white-space:pre-wrap>Mobile, AL &amp; Pensacola, FL            </span></td><td>WEAR-TV                                                                           </td><td>3 (17)                                                                            </td><td>1997                                                                              </td><td>1000                                                                              </td><td>30.612611; -87.644889                                                             </td><td>30.61261                                                                          </td><td>-87.64489                                                                         </td><td>1997                                                                              </td><td>NA                                                                                </td></tr>\n",
       "\t<tr><td><span style=white-space:pre-wrap>Mobile, AL &amp; Pensacola, FL            </span></td><td>WPMI-TV                                                                           </td><td>15 (15)                                                                           </td><td>2012                                                                              </td><td>1000                                                                              </td><td>30.61139; -87.607333                                                              </td><td>30.61139                                                                          </td><td>-87.60733                                                                         </td><td>2012                                                                              </td><td>NA                                                                                </td></tr>\n",
       "</tbody>\n",
       "</table>\n"
      ],
      "text/latex": [
       "\\begin{tabular}{r|llllllllll}\n",
       " Market & Station & Channel.RF. & Year & Power.kW & Location & Latitude & Longitude & Year.Start & Year.End\\\\\n",
       "\\hline\n",
       "\t Birmingham - Tuscaloosa - Anniston, AL & WTTO                                   & 21 (28)                                & 1995                                   &  765                                   & 33.484583; -86.807083                  & 33.48458                               & -86.80708                              & 1995                                   & NA                                    \\\\\n",
       "\t Birmingham - Tuscaloosa - Anniston, AL & WABM                                   & 68 (36)                                & 2001                                   &  885                                   & 33.484583; -86.807056                  & 33.48458                               & -86.80706                              & 2001                                   & NA                                    \\\\\n",
       "\t Birmingham - Tuscaloosa - Anniston, AL & WDBB                                   & 17 (18)                                & 1995                                   &   NA                                   &                                        &       NA                               &        NA                              & 1995                                   & NA                                    \\\\\n",
       "\t Birmingham - Tuscaloosa - Anniston, AL & WBMA-LD                                & 58 (40)                                & 2014                                   &  885                                   & 33.484583; -86.807056                  & 33.48458                               & -86.80706                              & 2014                                   & NA                                    \\\\\n",
       "\t Mobile, AL \\& Pensacola, FL             & WEAR-TV                                  & 3 (17)                                   & 1997                                     & 1000                                     & 30.612611; -87.644889                    & 30.61261                                 & -87.64489                                & 1997                                     & NA                                      \\\\\n",
       "\t Mobile, AL \\& Pensacola, FL             & WPMI-TV                                  & 15 (15)                                  & 2012                                     & 1000                                     & 30.61139; -87.607333                     & 30.61139                                 & -87.60733                                & 2012                                     & NA                                      \\\\\n",
       "\\end{tabular}\n"
      ],
      "text/markdown": [
       "\n",
       "Market | Station | Channel.RF. | Year | Power.kW | Location | Latitude | Longitude | Year.Start | Year.End | \n",
       "|---|---|---|---|---|---|\n",
       "| Birmingham - Tuscaloosa - Anniston, AL | WTTO                                   | 21 (28)                                | 1995                                   |  765                                   | 33.484583; -86.807083                  | 33.48458                               | -86.80708                              | 1995                                   | NA                                     | \n",
       "| Birmingham - Tuscaloosa - Anniston, AL | WABM                                   | 68 (36)                                | 2001                                   |  885                                   | 33.484583; -86.807056                  | 33.48458                               | -86.80706                              | 2001                                   | NA                                     | \n",
       "| Birmingham - Tuscaloosa - Anniston, AL | WDBB                                   | 17 (18)                                | 1995                                   |   NA                                   |                                        |       NA                               |        NA                              | 1995                                   | NA                                     | \n",
       "| Birmingham - Tuscaloosa - Anniston, AL | WBMA-LD                                | 58 (40)                                | 2014                                   |  885                                   | 33.484583; -86.807056                  | 33.48458                               | -86.80706                              | 2014                                   | NA                                     | \n",
       "| Mobile, AL & Pensacola, FL             | WEAR-TV                                | 3 (17)                                 | 1997                                   | 1000                                   | 30.612611; -87.644889                  | 30.61261                               | -87.64489                              | 1997                                   | NA                                     | \n",
       "| Mobile, AL & Pensacola, FL             | WPMI-TV                                | 15 (15)                                | 2012                                   | 1000                                   | 30.61139; -87.607333                   | 30.61139                               | -87.60733                              | 2012                                   | NA                                     | \n",
       "\n",
       "\n"
      ],
      "text/plain": [
       "  Market                                 Station Channel.RF. Year Power.kW\n",
       "1 Birmingham - Tuscaloosa - Anniston, AL WTTO    21 (28)     1995  765    \n",
       "2 Birmingham - Tuscaloosa - Anniston, AL WABM    68 (36)     2001  885    \n",
       "3 Birmingham - Tuscaloosa - Anniston, AL WDBB    17 (18)     1995   NA    \n",
       "4 Birmingham - Tuscaloosa - Anniston, AL WBMA-LD 58 (40)     2014  885    \n",
       "5 Mobile, AL & Pensacola, FL             WEAR-TV 3 (17)      1997 1000    \n",
       "6 Mobile, AL & Pensacola, FL             WPMI-TV 15 (15)     2012 1000    \n",
       "  Location              Latitude Longitude Year.Start Year.End\n",
       "1 33.484583; -86.807083 33.48458 -86.80708 1995       NA      \n",
       "2 33.484583; -86.807056 33.48458 -86.80706 2001       NA      \n",
       "3                             NA        NA 1995       NA      \n",
       "4 33.484583; -86.807056 33.48458 -86.80706 2014       NA      \n",
       "5 30.612611; -87.644889 30.61261 -87.64489 1997       NA      \n",
       "6 30.61139; -87.607333  30.61139 -87.60733 2012       NA      "
      ]
     },
     "metadata": {},
     "output_type": "display_data"
    }
   ],
   "source": [
    "head(sinclair_station_all_df)"
   ]
  },
  {
   "cell_type": "markdown",
   "metadata": {},
   "source": [
    "The second source of data for this notebook is a modified version of [Simon Zou's D3 visualization of Nielsen's DMAs](http://bl.ocks.org/simzou/6459889). The data resides in `Interactive_DMA_Map/nielsengeo.json` and `Interactive_DMA_Map/nielsentopo.json`. These two files hold essentially the same information, except in slightly different formats. See [geojson vs topojson](https://stackoverflow.com/questions/14740705/difference-between-geojson-and-topojson) for more specifics.\n",
    "\n",
    "What you'll need to know for this exploration is that we'll be using the more verbose `nielsengeo.json` file and that this file has all of the data necessary to draw the DMAs. We can load it in two ways:\n",
    "\n",
    "+ As a pure JSON object, using the `fromJSON()` function.\n",
    "+ As a `SpatialPolygonsDataFrame` using the `geojson_read()` function.\n",
    "\n",
    "While R does allow us to work with pure JSON, it's much more useful when programming in `javascript` (especially when using `d3`). As such, we'll go with the latter option and create a `SpatialPolygonsDataFrame` object."
   ]
  },
  {
   "cell_type": "code",
   "execution_count": 15,
   "metadata": {
    "collapsed": true
   },
   "outputs": [],
   "source": [
    "# Get the shapefile\n",
    "dma_geo_path <- \"Interactive_DMA_Map/nielsengeo.json\"\n",
    "dma_geo_sh <- geojson_read(dma_geo_path, what = \"sp\")"
   ]
  },
  {
   "cell_type": "code",
   "execution_count": 16,
   "metadata": {},
   "outputs": [
    {
     "data": {
      "text/plain": [
       "An object of class \"SpatialPolygonsDataFrame\"\n",
       "Slot \"data\":\n",
       "    name latitude tvperc dma                   dma1 cableperc adsperc longitude\n",
       "662 dma: 32.40435   89.2 662 Abilene-Sweetwater, TX      38.2    51.8 -99.82936\n",
       "\n",
       "Slot \"polygons\":\n",
       "[[1]]\n",
       "An object of class \"Polygons\"\n",
       "Slot \"Polygons\":\n",
       "[[1]]\n",
       "An object of class \"Polygon\"\n",
       "Slot \"labpt\":\n",
       "[1] -99.80485  32.44001\n",
       "\n",
       "Slot \"area\":\n",
       "[1] 3.550962\n",
       "\n",
       "Slot \"hole\":\n",
       "[1] FALSE\n",
       "\n",
       "Slot \"ringDir\":\n",
       "[1] 1\n",
       "\n",
       "Slot \"coords\":\n",
       "            [,1]     [,2]\n",
       " [1,]  -98.66994 31.70139\n",
       " [2,]  -99.01090 31.47284\n",
       " [3,]  -99.23628 31.48278\n",
       " [4,]  -99.31718 31.41073\n",
       " [5,]  -99.62925 31.46787\n",
       " [6,]  -99.70437 31.57718\n",
       " [7,] -100.23604 31.58215\n",
       " [8,] -100.23604 32.08148\n",
       " [9,] -101.18378 32.08645\n",
       "[10,] -101.17222 32.96340\n",
       "[11,] -100.51920 32.96340\n",
       "[12,] -100.51920 33.39814\n",
       "[13,]  -99.47322 33.39814\n",
       "[14,]  -99.47322 32.95594\n",
       "[15,]  -98.57748 32.95346\n",
       "[16,]  -98.57748 32.51623\n",
       "[17,]  -98.47346 32.51375\n",
       "[18,]  -98.47346 32.30010\n",
       "[19,]  -98.92422 32.07900\n",
       "[20,]  -98.66994 31.70139\n",
       "\n",
       "\n",
       "\n",
       "Slot \"plotOrder\":\n",
       "[1] 1\n",
       "\n",
       "Slot \"labpt\":\n",
       "[1] -99.80485  32.44001\n",
       "\n",
       "Slot \"ID\":\n",
       "[1] \"662\"\n",
       "\n",
       "Slot \"area\":\n",
       "[1] 3.550962\n",
       "\n",
       "\n",
       "\n",
       "Slot \"plotOrder\":\n",
       "[1] 1\n",
       "\n",
       "Slot \"bbox\":\n",
       "         min       max\n",
       "x -101.18378 -98.47346\n",
       "y   31.41073  33.39814\n",
       "\n",
       "Slot \"proj4string\":\n",
       "CRS arguments:\n",
       " +proj=longlat +datum=WGS84 +no_defs +ellps=WGS84 +towgs84=0,0,0 \n"
      ]
     },
     "metadata": {},
     "output_type": "display_data"
    }
   ],
   "source": [
    "head(dma_geo_sh, n = 1) # Show only one Polygon in the DataFrame"
   ]
  },
  {
   "cell_type": "markdown",
   "metadata": {},
   "source": [
    "As you can see from the output above, a `SpatialPolygonsDataFrame` isn't simply a table, but an object containing members (or \"slots\", in R parlance) that each describe polygons in different ways. For example, the `data` slot contains a list of key-value pairs that provide possible labels for that polygon, the `coords` slot contains a list of points used to draw the polygon, and the `area` slot calculates the enclosed area. \n",
    "\n",
    "You can write whole tutorials on how these objects work (and people have), but I'm not going to do that here. Why? Because we'll only need this `SpatialPolygonsDataFrame` for only a little while longer. If you really want to learn more about GIS and spatial objects in R (it's actually kind of cool), try the guides by [Nick Eubank](http://www.nickeubank.com/gis-in-r/) and [Claudia Engel](http://www.rpubs.com/cengel248/172289); these guys do a much better job than I ever could.\n",
    "\n",
    "Now, to convert the `SpatialPolygonsDataFrame` into a standard R data frame, we make clever use of the `merge()` and `tidy()` functions:"
   ]
  },
  {
   "cell_type": "code",
   "execution_count": 12,
   "metadata": {},
   "outputs": [
    {
     "name": "stderr",
     "output_type": "stream",
     "text": [
      "Regions defined for each Polygons\n"
     ]
    }
   ],
   "source": [
    "# Convert the shapefile into a csv\n",
    "dma_geo_sh@data$id <- rownames(dma_geo_sh@data)\n",
    "dma_geo_df <- merge(tidy(dma_geo_sh), dma_geo_sh@data, by = \"id\")"
   ]
  },
  {
   "cell_type": "code",
   "execution_count": 19,
   "metadata": {},
   "outputs": [
    {
     "data": {
      "text/html": [
       "<table>\n",
       "<thead><tr><th scope=col>id</th><th scope=col>long</th><th scope=col>lat</th><th scope=col>order</th><th scope=col>hole</th><th scope=col>piece</th><th scope=col>group</th><th scope=col>name</th><th scope=col>latitude</th><th scope=col>tvperc</th><th scope=col>dma</th><th scope=col>dma1</th><th scope=col>cableperc</th><th scope=col>adsperc</th><th scope=col>longitude</th></tr></thead>\n",
       "<tbody>\n",
       "\t<tr><td>500                </td><td>-70.97725          </td><td>43.35754           </td><td>1                  </td><td>FALSE              </td><td>1                  </td><td>500.1              </td><td>dma:               </td><td>44.36667           </td><td>91.3               </td><td>500                </td><td>Portland-Auburn, ME</td><td>67.9               </td><td>23.7               </td><td>-70.18301          </td></tr>\n",
       "\t<tr><td>500                </td><td>-70.95991          </td><td>43.54138           </td><td>2                  </td><td>FALSE              </td><td>1                  </td><td>500.1              </td><td>dma:               </td><td>44.36667           </td><td>91.3               </td><td>500                </td><td>Portland-Auburn, ME</td><td>67.9               </td><td>23.7               </td><td>-70.18301          </td></tr>\n",
       "\t<tr><td>500                </td><td>-71.11016          </td><td>43.50660           </td><td>3                  </td><td>FALSE              </td><td>1                  </td><td>500.1              </td><td>dma:               </td><td>44.36667           </td><td>91.3               </td><td>500                </td><td>Portland-Auburn, ME</td><td>67.9               </td><td>23.7               </td><td>-70.18301          </td></tr>\n",
       "\t<tr><td>500                </td><td>-71.12750          </td><td>43.57367           </td><td>4                  </td><td>FALSE              </td><td>1                  </td><td>500.1              </td><td>dma:               </td><td>44.36667           </td><td>91.3               </td><td>500                </td><td>Portland-Auburn, ME</td><td>67.9               </td><td>23.7               </td><td>-70.18301          </td></tr>\n",
       "\t<tr><td>500                </td><td>-71.26042          </td><td>43.57119           </td><td>5                  </td><td>FALSE              </td><td>1                  </td><td>500.1              </td><td>dma:               </td><td>44.36667           </td><td>91.3               </td><td>500                </td><td>Portland-Auburn, ME</td><td>67.9               </td><td>23.7               </td><td>-70.18301          </td></tr>\n",
       "\t<tr><td>500                </td><td>-71.53203          </td><td>43.76496           </td><td>6                  </td><td>FALSE              </td><td>1                  </td><td>500.1              </td><td>dma:               </td><td>44.36667           </td><td>91.3               </td><td>500                </td><td>Portland-Auburn, ME</td><td>67.9               </td><td>23.7               </td><td>-70.18301          </td></tr>\n",
       "</tbody>\n",
       "</table>\n"
      ],
      "text/latex": [
       "\\begin{tabular}{r|lllllllllllllll}\n",
       " id & long & lat & order & hole & piece & group & name & latitude & tvperc & dma & dma1 & cableperc & adsperc & longitude\\\\\n",
       "\\hline\n",
       "\t 500                 & -70.97725           & 43.35754            & 1                   & FALSE               & 1                   & 500.1               & dma:                & 44.36667            & 91.3                & 500                 & Portland-Auburn, ME & 67.9                & 23.7                & -70.18301          \\\\\n",
       "\t 500                 & -70.95991           & 43.54138            & 2                   & FALSE               & 1                   & 500.1               & dma:                & 44.36667            & 91.3                & 500                 & Portland-Auburn, ME & 67.9                & 23.7                & -70.18301          \\\\\n",
       "\t 500                 & -71.11016           & 43.50660            & 3                   & FALSE               & 1                   & 500.1               & dma:                & 44.36667            & 91.3                & 500                 & Portland-Auburn, ME & 67.9                & 23.7                & -70.18301          \\\\\n",
       "\t 500                 & -71.12750           & 43.57367            & 4                   & FALSE               & 1                   & 500.1               & dma:                & 44.36667            & 91.3                & 500                 & Portland-Auburn, ME & 67.9                & 23.7                & -70.18301          \\\\\n",
       "\t 500                 & -71.26042           & 43.57119            & 5                   & FALSE               & 1                   & 500.1               & dma:                & 44.36667            & 91.3                & 500                 & Portland-Auburn, ME & 67.9                & 23.7                & -70.18301          \\\\\n",
       "\t 500                 & -71.53203           & 43.76496            & 6                   & FALSE               & 1                   & 500.1               & dma:                & 44.36667            & 91.3                & 500                 & Portland-Auburn, ME & 67.9                & 23.7                & -70.18301          \\\\\n",
       "\\end{tabular}\n"
      ],
      "text/markdown": [
       "\n",
       "id | long | lat | order | hole | piece | group | name | latitude | tvperc | dma | dma1 | cableperc | adsperc | longitude | \n",
       "|---|---|---|---|---|---|\n",
       "| 500                 | -70.97725           | 43.35754            | 1                   | FALSE               | 1                   | 500.1               | dma:                | 44.36667            | 91.3                | 500                 | Portland-Auburn, ME | 67.9                | 23.7                | -70.18301           | \n",
       "| 500                 | -70.95991           | 43.54138            | 2                   | FALSE               | 1                   | 500.1               | dma:                | 44.36667            | 91.3                | 500                 | Portland-Auburn, ME | 67.9                | 23.7                | -70.18301           | \n",
       "| 500                 | -71.11016           | 43.50660            | 3                   | FALSE               | 1                   | 500.1               | dma:                | 44.36667            | 91.3                | 500                 | Portland-Auburn, ME | 67.9                | 23.7                | -70.18301           | \n",
       "| 500                 | -71.12750           | 43.57367            | 4                   | FALSE               | 1                   | 500.1               | dma:                | 44.36667            | 91.3                | 500                 | Portland-Auburn, ME | 67.9                | 23.7                | -70.18301           | \n",
       "| 500                 | -71.26042           | 43.57119            | 5                   | FALSE               | 1                   | 500.1               | dma:                | 44.36667            | 91.3                | 500                 | Portland-Auburn, ME | 67.9                | 23.7                | -70.18301           | \n",
       "| 500                 | -71.53203           | 43.76496            | 6                   | FALSE               | 1                   | 500.1               | dma:                | 44.36667            | 91.3                | 500                 | Portland-Auburn, ME | 67.9                | 23.7                | -70.18301           | \n",
       "\n",
       "\n"
      ],
      "text/plain": [
       "  id  long      lat      order hole  piece group name latitude tvperc dma\n",
       "1 500 -70.97725 43.35754 1     FALSE 1     500.1 dma: 44.36667 91.3   500\n",
       "2 500 -70.95991 43.54138 2     FALSE 1     500.1 dma: 44.36667 91.3   500\n",
       "3 500 -71.11016 43.50660 3     FALSE 1     500.1 dma: 44.36667 91.3   500\n",
       "4 500 -71.12750 43.57367 4     FALSE 1     500.1 dma: 44.36667 91.3   500\n",
       "5 500 -71.26042 43.57119 5     FALSE 1     500.1 dma: 44.36667 91.3   500\n",
       "6 500 -71.53203 43.76496 6     FALSE 1     500.1 dma: 44.36667 91.3   500\n",
       "  dma1                cableperc adsperc longitude\n",
       "1 Portland-Auburn, ME 67.9      23.7    -70.18301\n",
       "2 Portland-Auburn, ME 67.9      23.7    -70.18301\n",
       "3 Portland-Auburn, ME 67.9      23.7    -70.18301\n",
       "4 Portland-Auburn, ME 67.9      23.7    -70.18301\n",
       "5 Portland-Auburn, ME 67.9      23.7    -70.18301\n",
       "6 Portland-Auburn, ME 67.9      23.7    -70.18301"
      ]
     },
     "metadata": {},
     "output_type": "display_data"
    }
   ],
   "source": [
    "head(dma_geo_df)"
   ]
  },
  {
   "cell_type": "markdown",
   "metadata": {},
   "source": [
    "Tada! This data frame holds basically all the same information as the `Spatial` version above. Here, the `group` column tells us which `long`, `lat` pairs belong to which polygon. The `order` column tells us which order to connect the coordinates in. The `piece` column tells us about DMAs that are made up of multiple polygons (or polygons with holes in them). \n",
    "\n",
    "For example, the DMA with `id = 500` (Portland-Auburn, ME), is composed of 34 pieces. Piece 1 has `group = 500.1`, piece 2 has `group = 500.2`, piece 3 has `group = 500.3`, etc."
   ]
  },
  {
   "cell_type": "code",
   "execution_count": 30,
   "metadata": {},
   "outputs": [
    {
     "data": {
      "text/html": [
       "<table>\n",
       "<thead><tr><th></th><th scope=col>id</th><th scope=col>long</th><th scope=col>lat</th><th scope=col>order</th><th scope=col>hole</th><th scope=col>piece</th><th scope=col>group</th><th scope=col>name</th><th scope=col>latitude</th><th scope=col>tvperc</th><th scope=col>dma</th><th scope=col>dma1</th><th scope=col>cableperc</th><th scope=col>adsperc</th><th scope=col>longitude</th></tr></thead>\n",
       "<tbody>\n",
       "\t<tr><th scope=row>1</th><td>500                </td><td>-70.97725          </td><td>43.35754           </td><td>  1                </td><td>FALSE              </td><td>1                  </td><td>500.1              </td><td>dma:               </td><td>44.36667           </td><td>91.3               </td><td>500                </td><td>Portland-Auburn, ME</td><td>67.9               </td><td>23.7               </td><td>-70.18301          </td></tr>\n",
       "\t<tr><th scope=row>2</th><td>500                </td><td>-70.95991          </td><td>43.54138           </td><td>  2                </td><td>FALSE              </td><td>1                  </td><td>500.1              </td><td>dma:               </td><td>44.36667           </td><td>91.3               </td><td>500                </td><td>Portland-Auburn, ME</td><td>67.9               </td><td>23.7               </td><td>-70.18301          </td></tr>\n",
       "\t<tr><th scope=row>3</th><td>500                </td><td>-71.11016          </td><td>43.50660           </td><td>  3                </td><td>FALSE              </td><td>1                  </td><td>500.1              </td><td>dma:               </td><td>44.36667           </td><td>91.3               </td><td>500                </td><td>Portland-Auburn, ME</td><td>67.9               </td><td>23.7               </td><td>-70.18301          </td></tr>\n",
       "\t<tr><th scope=row>75</th><td>500                </td><td>-68.82170          </td><td>44.03078           </td><td> 75                </td><td>FALSE              </td><td>2                  </td><td>500.2              </td><td>dma:               </td><td>44.36667           </td><td>91.3               </td><td>500                </td><td>Portland-Auburn, ME</td><td>67.9               </td><td>23.7               </td><td>-70.18301          </td></tr>\n",
       "\t<tr><th scope=row>76</th><td>500                </td><td>-68.89683          </td><td>44.11524           </td><td> 76                </td><td>FALSE              </td><td>2                  </td><td>500.2              </td><td>dma:               </td><td>44.36667           </td><td>91.3               </td><td>500                </td><td>Portland-Auburn, ME</td><td>67.9               </td><td>23.7               </td><td>-70.18301          </td></tr>\n",
       "\t<tr><th scope=row>77</th><td>500                </td><td>-68.90839          </td><td>44.09537           </td><td> 77                </td><td>FALSE              </td><td>2                  </td><td>500.2              </td><td>dma:               </td><td>44.36667           </td><td>91.3               </td><td>500                </td><td>Portland-Auburn, ME</td><td>67.9               </td><td>23.7               </td><td>-70.18301          </td></tr>\n",
       "\t<tr><th scope=row>236</th><td>500                </td><td>-69.68276          </td><td>43.80968           </td><td>236                </td><td>FALSE              </td><td>34                 </td><td>500.34             </td><td>dma:               </td><td>44.36667           </td><td>91.3               </td><td>500                </td><td>Portland-Auburn, ME</td><td>67.9               </td><td>23.7               </td><td>-70.18301          </td></tr>\n",
       "\t<tr><th scope=row>237</th><td>500                </td><td>-69.68854          </td><td>43.81713           </td><td>237                </td><td>FALSE              </td><td>34                 </td><td>500.34             </td><td>dma:               </td><td>44.36667           </td><td>91.3               </td><td>500                </td><td>Portland-Auburn, ME</td><td>67.9               </td><td>23.7               </td><td>-70.18301          </td></tr>\n",
       "\t<tr><th scope=row>238</th><td>500                </td><td>-69.68276          </td><td>43.81713           </td><td>238                </td><td>FALSE              </td><td>34                 </td><td>500.34             </td><td>dma:               </td><td>44.36667           </td><td>91.3               </td><td>500                </td><td>Portland-Auburn, ME</td><td>67.9               </td><td>23.7               </td><td>-70.18301          </td></tr>\n",
       "</tbody>\n",
       "</table>\n"
      ],
      "text/latex": [
       "\\begin{tabular}{r|lllllllllllllll}\n",
       "  & id & long & lat & order & hole & piece & group & name & latitude & tvperc & dma & dma1 & cableperc & adsperc & longitude\\\\\n",
       "\\hline\n",
       "\t1 & 500                 & -70.97725           & 43.35754            &   1                 & FALSE               & 1                   & 500.1               & dma:                & 44.36667            & 91.3                & 500                 & Portland-Auburn, ME & 67.9                & 23.7                & -70.18301          \\\\\n",
       "\t2 & 500                 & -70.95991           & 43.54138            &   2                 & FALSE               & 1                   & 500.1               & dma:                & 44.36667            & 91.3                & 500                 & Portland-Auburn, ME & 67.9                & 23.7                & -70.18301          \\\\\n",
       "\t3 & 500                 & -71.11016           & 43.50660            &   3                 & FALSE               & 1                   & 500.1               & dma:                & 44.36667            & 91.3                & 500                 & Portland-Auburn, ME & 67.9                & 23.7                & -70.18301          \\\\\n",
       "\t75 & 500                 & -68.82170           & 44.03078            &  75                 & FALSE               & 2                   & 500.2               & dma:                & 44.36667            & 91.3                & 500                 & Portland-Auburn, ME & 67.9                & 23.7                & -70.18301          \\\\\n",
       "\t76 & 500                 & -68.89683           & 44.11524            &  76                 & FALSE               & 2                   & 500.2               & dma:                & 44.36667            & 91.3                & 500                 & Portland-Auburn, ME & 67.9                & 23.7                & -70.18301          \\\\\n",
       "\t77 & 500                 & -68.90839           & 44.09537            &  77                 & FALSE               & 2                   & 500.2               & dma:                & 44.36667            & 91.3                & 500                 & Portland-Auburn, ME & 67.9                & 23.7                & -70.18301          \\\\\n",
       "\t236 & 500                 & -69.68276           & 43.80968            & 236                 & FALSE               & 34                  & 500.34              & dma:                & 44.36667            & 91.3                & 500                 & Portland-Auburn, ME & 67.9                & 23.7                & -70.18301          \\\\\n",
       "\t237 & 500                 & -69.68854           & 43.81713            & 237                 & FALSE               & 34                  & 500.34              & dma:                & 44.36667            & 91.3                & 500                 & Portland-Auburn, ME & 67.9                & 23.7                & -70.18301          \\\\\n",
       "\t238 & 500                 & -69.68276           & 43.81713            & 238                 & FALSE               & 34                  & 500.34              & dma:                & 44.36667            & 91.3                & 500                 & Portland-Auburn, ME & 67.9                & 23.7                & -70.18301          \\\\\n",
       "\\end{tabular}\n"
      ],
      "text/markdown": [
       "\n",
       "| <!--/--> | id | long | lat | order | hole | piece | group | name | latitude | tvperc | dma | dma1 | cableperc | adsperc | longitude | \n",
       "|---|---|---|---|---|---|---|---|---|\n",
       "| 1 | 500                 | -70.97725           | 43.35754            |   1                 | FALSE               | 1                   | 500.1               | dma:                | 44.36667            | 91.3                | 500                 | Portland-Auburn, ME | 67.9                | 23.7                | -70.18301           | \n",
       "| 2 | 500                 | -70.95991           | 43.54138            |   2                 | FALSE               | 1                   | 500.1               | dma:                | 44.36667            | 91.3                | 500                 | Portland-Auburn, ME | 67.9                | 23.7                | -70.18301           | \n",
       "| 3 | 500                 | -71.11016           | 43.50660            |   3                 | FALSE               | 1                   | 500.1               | dma:                | 44.36667            | 91.3                | 500                 | Portland-Auburn, ME | 67.9                | 23.7                | -70.18301           | \n",
       "| 75 | 500                 | -68.82170           | 44.03078            |  75                 | FALSE               | 2                   | 500.2               | dma:                | 44.36667            | 91.3                | 500                 | Portland-Auburn, ME | 67.9                | 23.7                | -70.18301           | \n",
       "| 76 | 500                 | -68.89683           | 44.11524            |  76                 | FALSE               | 2                   | 500.2               | dma:                | 44.36667            | 91.3                | 500                 | Portland-Auburn, ME | 67.9                | 23.7                | -70.18301           | \n",
       "| 77 | 500                 | -68.90839           | 44.09537            |  77                 | FALSE               | 2                   | 500.2               | dma:                | 44.36667            | 91.3                | 500                 | Portland-Auburn, ME | 67.9                | 23.7                | -70.18301           | \n",
       "| 236 | 500                 | -69.68276           | 43.80968            | 236                 | FALSE               | 34                  | 500.34              | dma:                | 44.36667            | 91.3                | 500                 | Portland-Auburn, ME | 67.9                | 23.7                | -70.18301           | \n",
       "| 237 | 500                 | -69.68854           | 43.81713            | 237                 | FALSE               | 34                  | 500.34              | dma:                | 44.36667            | 91.3                | 500                 | Portland-Auburn, ME | 67.9                | 23.7                | -70.18301           | \n",
       "| 238 | 500                 | -69.68276           | 43.81713            | 238                 | FALSE               | 34                  | 500.34              | dma:                | 44.36667            | 91.3                | 500                 | Portland-Auburn, ME | 67.9                | 23.7                | -70.18301           | \n",
       "\n",
       "\n"
      ],
      "text/plain": [
       "    id  long      lat      order hole  piece group  name latitude tvperc dma\n",
       "1   500 -70.97725 43.35754   1   FALSE 1     500.1  dma: 44.36667 91.3   500\n",
       "2   500 -70.95991 43.54138   2   FALSE 1     500.1  dma: 44.36667 91.3   500\n",
       "3   500 -71.11016 43.50660   3   FALSE 1     500.1  dma: 44.36667 91.3   500\n",
       "75  500 -68.82170 44.03078  75   FALSE 2     500.2  dma: 44.36667 91.3   500\n",
       "76  500 -68.89683 44.11524  76   FALSE 2     500.2  dma: 44.36667 91.3   500\n",
       "77  500 -68.90839 44.09537  77   FALSE 2     500.2  dma: 44.36667 91.3   500\n",
       "236 500 -69.68276 43.80968 236   FALSE 34    500.34 dma: 44.36667 91.3   500\n",
       "237 500 -69.68854 43.81713 237   FALSE 34    500.34 dma: 44.36667 91.3   500\n",
       "238 500 -69.68276 43.81713 238   FALSE 34    500.34 dma: 44.36667 91.3   500\n",
       "    dma1                cableperc adsperc longitude\n",
       "1   Portland-Auburn, ME 67.9      23.7    -70.18301\n",
       "2   Portland-Auburn, ME 67.9      23.7    -70.18301\n",
       "3   Portland-Auburn, ME 67.9      23.7    -70.18301\n",
       "75  Portland-Auburn, ME 67.9      23.7    -70.18301\n",
       "76  Portland-Auburn, ME 67.9      23.7    -70.18301\n",
       "77  Portland-Auburn, ME 67.9      23.7    -70.18301\n",
       "236 Portland-Auburn, ME 67.9      23.7    -70.18301\n",
       "237 Portland-Auburn, ME 67.9      23.7    -70.18301\n",
       "238 Portland-Auburn, ME 67.9      23.7    -70.18301"
      ]
     },
     "metadata": {},
     "output_type": "display_data"
    }
   ],
   "source": [
    "# Get some pieces of the Portland-Auburn DMA\n",
    "piece1_df <- dma_geo_df[dma_geo_df$group == 500.1,]\n",
    "piece2_df <- dma_geo_df[dma_geo_df$group == 500.2,]\n",
    "piece34_df <- dma_geo_df[dma_geo_df$group == 500.34,]\n",
    "\n",
    "# Get top three rows from each piece\n",
    "example_portland_df <- rbind(head(piece1_df, n = 3), \n",
    "                             head(piece2_df, n = 3),\n",
    "                             head(piece34_df, n = 3))\n",
    "# Print\n",
    "example_portland_df"
   ]
  },
  {
   "cell_type": "markdown",
   "metadata": {},
   "source": [
    "We can use `ggplot2` to draw maps if we have data frames with a `group` property. For all following maps, I'll be using the *Albers* map projection with `lat0 = 37.5` and `lat1 = 29.5`. This map projection (unlike the Mercator projection, for example) works best when viewing just the US."
   ]
  },
  {
   "cell_type": "code",
   "execution_count": 34,
   "metadata": {
    "collapsed": true
   },
   "outputs": [],
   "source": [
    "# Set the size of output graphics\n",
    "library(repr)\n",
    "options(repr.plot.width=8, repr.plot.height=5)"
   ]
  },
  {
   "cell_type": "code",
   "execution_count": 50,
   "metadata": {
    "collapsed": true
   },
   "outputs": [],
   "source": [
    "# Define a function that creates a map using the Albers projection\n",
    "ggalbers <- function() {\n",
    "    ggplot() +\n",
    "    coord_map(\"albers\", lat0 = 37.5, lat1 = 29.5) +\n",
    "    theme(plot.title = element_text(hjust = 0.1, color=\"#666666\", face=\"bold\", size=20), \n",
    "        axis.text = element_blank(), \n",
    "        axis.line = element_blank(), \n",
    "        axis.ticks = element_blank(),\n",
    "        axis.title = element_blank(),\n",
    "        panel.border = element_blank(),\n",
    "        panel.grid = element_blank(),\n",
    "        panel.background = element_blank()\n",
    "    )\n",
    "}"
   ]
  },
  {
   "cell_type": "code",
   "execution_count": 51,
   "metadata": {},
   "outputs": [
    {
     "data": {},
     "metadata": {},
     "output_type": "display_data"
    },
    {
     "data": {
      "image/png": "[encoded data removed]",
      "text/plain": [
       "plot without title"
      ]
     },
     "metadata": {},
     "output_type": "display_data"
    }
   ],
   "source": [
    "# Get only the Portland-Auburn DMA\n",
    "dma_portland_df <- dma_geo_df[dma_geo_df$dma == 500,]\n",
    "\n",
    "# Generate a graph of the Portland-Auburn DMA\n",
    "ggalbers() +\n",
    "    geom_polygon(data = dma_portland_df, \n",
    "                 color = \"red\",\n",
    "                 fill = \"gray30\",\n",
    "                 aes(x = long, y = lat, group = group)) +\n",
    "    ggtitle(\"Portland-Auburn DMA\")"
   ]
  },
  {
   "cell_type": "markdown",
   "metadata": {},
   "source": [
    "We can now see why this shape had so many pieces: small piece of land floating off in the Atlantic Ocean!\n",
    "\n",
    "Now that we have a cursory understanding of how to create these maps, let's stop focusing on Maine and consider the entire USA. We can generate some maps for each of the different `properties` such as `tvperc` and `cableperc`, using almost the same code as above:"
   ]
  },
  {
   "cell_type": "code",
   "execution_count": 49,
   "metadata": {},
   "outputs": [
    {
     "data": {},
     "metadata": {},
     "output_type": "display_data"
    },
    {
     "data": {
      "image/png": "[encoded data removed]",
      "text/plain": [
       "plot without title"
      ]
     },
     "metadata": {},
     "output_type": "display_data"
    }
   ],
   "source": [
    "# Generate a map for TV ownership by Neilson market\n",
    "ggalbers() +\n",
    "    geom_polygon(data = dma_geo_df, \n",
    "                 color = \"gray80\",\n",
    "                 aes(x = long, y = lat, group = group, fill = tvperc)) +\n",
    "    ggtitle(\"Neilson DMAs - Percent TV\") +\n",
    "    guides(fill = guide_legend(title = \"Percentage\\nTV Ownership\"))"
   ]
  },
  {
   "cell_type": "code",
   "execution_count": 52,
   "metadata": {},
   "outputs": [
    {
     "data": {},
     "metadata": {},
     "output_type": "display_data"
    },
    {
     "data": {
      "image/png": "[encoded data removed]",
      "text/plain": [
       "plot without title"
      ]
     },
     "metadata": {},
     "output_type": "display_data"
    }
   ],
   "source": [
    "# Generate a map for cable subscriptions by Neilson market\n",
    "ggalbers() +\n",
    "    geom_polygon(data = dma_geo_df, \n",
    "                 color = \"gray80\",\n",
    "                 aes(x = long, y = lat, group = group, fill = cableperc)) +\n",
    "    ggtitle(\"Neilson DMAs - Percent Cable\") +\n",
    "    guides(fill = guide_legend(title = \"Percentage\\nCable Subs\"))"
   ]
  },
  {
   "cell_type": "markdown",
   "metadata": {},
   "source": [
    "#### Second Order of Business\n",
    "\n",
    "Now that we have a good idea of what the data looks like, what are we going to do with it? Well, we want to answer similar questions to those we answered in **Sinclair Station Exploration**. Namely:\n",
    "\n",
    "1. How has the number of markets Sincliar operates inside of changed over time?\n",
    "2. How does the spread of these markets look like spatially, from the viewpoint of the US as a whole?\n",
    "\n",
    "To do this, we'll need to combine `dma_geo_df` and `sinclair_station_all_df` by matching each station in `sinclair_station_all_df` to their designated market in `dma_geo_df`. Once we do this we'll know which markets Sinclair operates in and when they started that operation. \n",
    "\n",
    "How can we do this? If you scroll up you'll see that `sinclair_station_all_df` conveniently has a `Market` column; this should be the obvious method for matching stations with their markets. \n",
    "\n",
    "Unfortunately, we won't be able to use this. If you look at the market names in both dataset for a single state (say Illinois), you'll find something like this:"
   ]
  },
  {
   "cell_type": "code",
   "execution_count": 10,
   "metadata": {},
   "outputs": [
    {
     "data": {
      "text/html": [
       "<ol class=list-inline>\n",
       "\t<li>Champaign - Urbana - Decatur - Springfield, IL</li>\n",
       "\t<li>Peoria &amp; Bloomington, IL</li>\n",
       "\t<li>Cape Girardeau, MO - Paducah, KY - Harrisburg, IL</li>\n",
       "\t<li>Hannibal, MO - Quincy, IL</li>\n",
       "</ol>\n"
      ],
      "text/latex": [
       "\\begin{enumerate*}\n",
       "\\item Champaign - Urbana - Decatur - Springfield, IL\n",
       "\\item Peoria \\& Bloomington, IL\n",
       "\\item Cape Girardeau, MO - Paducah, KY - Harrisburg, IL\n",
       "\\item Hannibal, MO - Quincy, IL\n",
       "\\end{enumerate*}\n"
      ],
      "text/markdown": [
       "1. Champaign - Urbana - Decatur - Springfield, IL\n",
       "2. Peoria &amp; Bloomington, IL\n",
       "3. Cape Girardeau, MO - Paducah, KY - Harrisburg, IL\n",
       "4. Hannibal, MO - Quincy, IL\n",
       "\n",
       "\n"
      ],
      "text/plain": [
       "[1] Champaign - Urbana - Decatur - Springfield, IL   \n",
       "[2] Peoria & Bloomington, IL                         \n",
       "[3] Cape Girardeau, MO - Paducah, KY - Harrisburg, IL\n",
       "[4] Hannibal, MO - Quincy, IL                        \n",
       "114 Levels: Abilene, TX Albany, GA Amarillo, TX Clovis, NM ... Yakima, WA Pasco & Kennewick, WA"
      ]
     },
     "metadata": {},
     "output_type": "display_data"
    }
   ],
   "source": [
    "# Show markets in `sinclair_station_all_df` for Illinois\n",
    "IL_mask <- str_sub(sinclair_station_all_df$Market, start = -2) == \"IL\"\n",
    "unique(sinclair_station_all_df[IL_mask, \"Market\"])"
   ]
  },
  {
   "cell_type": "code",
   "execution_count": 11,
   "metadata": {},
   "outputs": [
    {
     "data": {
      "text/html": [
       "<ol class=list-inline>\n",
       "\t<li>Chicago, IL</li>\n",
       "\t<li>Rockford, IL</li>\n",
       "\t<li>Paducah, KY-Cape Girardeau, MO-Harrisburg, IL</li>\n",
       "\t<li>Champaign &amp; Springfield-Decatur, IL</li>\n",
       "\t<li>Peoria-Bloomington, IL</li>\n",
       "\t<li>Davenport, IA-Rock Island-Moline, IL</li>\n",
       "\t<li>Quincy, IL-Hannibal, MO-Keokuk, IA</li>\n",
       "</ol>\n"
      ],
      "text/latex": [
       "\\begin{enumerate*}\n",
       "\\item Chicago, IL\n",
       "\\item Rockford, IL\n",
       "\\item Paducah, KY-Cape Girardeau, MO-Harrisburg, IL\n",
       "\\item Champaign \\& Springfield-Decatur, IL\n",
       "\\item Peoria-Bloomington, IL\n",
       "\\item Davenport, IA-Rock Island-Moline, IL\n",
       "\\item Quincy, IL-Hannibal, MO-Keokuk, IA\n",
       "\\end{enumerate*}\n"
      ],
      "text/markdown": [
       "1. Chicago, IL\n",
       "2. Rockford, IL\n",
       "3. Paducah, KY-Cape Girardeau, MO-Harrisburg, IL\n",
       "4. Champaign &amp; Springfield-Decatur, IL\n",
       "5. Peoria-Bloomington, IL\n",
       "6. Davenport, IA-Rock Island-Moline, IL\n",
       "7. Quincy, IL-Hannibal, MO-Keokuk, IA\n",
       "\n",
       "\n"
      ],
      "text/plain": [
       "[1] Chicago, IL                                  \n",
       "[2] Rockford, IL                                 \n",
       "[3] Paducah, KY-Cape Girardeau, MO-Harrisburg, IL\n",
       "[4] Champaign & Springfield-Decatur, IL          \n",
       "[5] Peoria-Bloomington, IL                       \n",
       "[6] Davenport, IA-Rock Island-Moline, IL         \n",
       "[7] Quincy, IL-Hannibal, MO-Keokuk, IA           \n",
       "206 Levels: Abilene-Sweetwater, TX Albany-Schenectady-Troy, NY ... Zanesville, OH"
      ]
     },
     "metadata": {},
     "output_type": "display_data"
    }
   ],
   "source": [
    "# Show markets in `dma_geo_df` for Illinois\n",
    "IL_mask <- sapply(dma_geo_df$dma1, function(x) grepl(\"IL\", x))\n",
    "unique(dma_geo_df[IL_mask, \"dma1\"])"
   ]
  },
  {
   "cell_type": "markdown",
   "metadata": {},
   "source": [
    "The example above suggests that market names between the two datasets do not seem to match well. Above, we would need to match:\n",
    "\n",
    "|Sinclair Station Market Name|Nielsen DMA Market Name|\n",
    "|----------------------------|-----------------------|\n",
    "|`Champaign - Urbana - Decatur - Springfield, IL`|`Champaign & Springfield-Decatur, IL`|\n",
    "|`Peoria & Bloomington, IL`|`Peoria-Bloomington, IL`|\n",
    "|`Cape Girardeau, MO - Paducah, KY - Harrisburg, IL`|`Paducah, KY-Cape Girardeau, MO-Harrisburg, IL`|\n",
    "|`Hannibal, MO - Quincy, IL`|`Quincy, IL-Hannibal, MO-Keokuk, IA`|\n",
    "    \n",
    "While we *can* probably figure this out using a bit of regex engineering, we'll take a different approach in this notebook. To match a Sinclair owned station with its market, we'll look at the location (`Latitude`, `Longitude`) of the station and determine if it's geographically inside of a given market. This method, while initially more difficult, is a lot less error prone than trying to match strings.\n",
    "\n",
    "#### Merge the Datasets\n",
    "\n",
    "Remember just a little while ago when I said that we won't need to worry about `dma_geo_sh` because we converted it to a regular data frame called `dma_geo_df`? I may have lied.\n",
    "\n",
    "There's a function in the spatial library `sp` called `over` (short for \"overlay\") that takes in two spatial objects (like `dma_geo_sh`) and tells us whether one is inside of another one. This is exactly what we need to find out which stations are inside of which markets! \n",
    "\n",
    "It works like this: if we have a list of coordinates called `A` and a list of polygons called `B` then the code `A %over% B` would result in a list that has the same length as `A` and is composed of objects from `B` that enclose each coordinate in `A`.\n",
    "\n",
    "I think a more concrete example is in order. Lets take a few rows from `sinclair_station_all_df`:"
   ]
  },
  {
   "cell_type": "code",
   "execution_count": 65,
   "metadata": {},
   "outputs": [
    {
     "data": {
      "text/html": [
       "<table>\n",
       "<thead><tr><th></th><th scope=col>Market</th><th scope=col>Station</th><th scope=col>Channel.RF.</th><th scope=col>Year</th><th scope=col>Power.kW</th><th scope=col>Location</th><th scope=col>Latitude</th><th scope=col>Longitude</th><th scope=col>Year.Start</th><th scope=col>Year.End</th></tr></thead>\n",
       "<tbody>\n",
       "\t<tr><th scope=row>203</th><td>Springfield - Holyoke, MA        </td><td>WGGB-TV                          </td><td>40 (40)                          </td><td>1998-2007                        </td><td> 460                             </td><td>42.241667; -72.649167            </td><td>42.24167                         </td><td> -72.64917                       </td><td>1998                             </td><td>2007                             </td></tr>\n",
       "\t<tr><th scope=row>207</th><td>Kansas City, Missouri            </td><td>KSMO-TV                          </td><td>62 (47)                          </td><td>1996-2005                        </td><td>1000                             </td><td>39.090500; -94.472000            </td><td>39.09050                         </td><td> -94.47200                       </td><td>1996                             </td><td>2005                             </td></tr>\n",
       "\t<tr><th scope=row>208</th><td>Plattsburgh, NY - Burlington, VT </td><td>WPTZ                             </td><td>5 (14)                           </td><td>1997-1998                        </td><td> 650                             </td><td>44.52556; -72.81556              </td><td>44.52556                         </td><td> -72.81556                       </td><td>1997                             </td><td>1998                             </td></tr>\n",
       "\t<tr><th scope=row>194</th><td>Colorado Springs - Pueblo, CO    </td><td>KXRM-TV                          </td><td>21 (22)                          </td><td>2013-2014                        </td><td>  51                             </td><td>38.745389; -104.860889           </td><td>38.74539                         </td><td>-104.86089                       </td><td>2013                             </td><td>2014                             </td></tr>\n",
       "\t<tr><th scope=row>197</th><td>Tallahassee, FL - Thomasville, GA</td><td>WTXL-TV                          </td><td>27 (27)                          </td><td>2001-2006                        </td><td>1000                             </td><td>30.66833; -83.96944              </td><td>30.66833                         </td><td> -83.96944                       </td><td>2001                             </td><td>2006                             </td></tr>\n",
       "</tbody>\n",
       "</table>\n"
      ],
      "text/latex": [
       "\\begin{tabular}{r|llllllllll}\n",
       "  & Market & Station & Channel.RF. & Year & Power.kW & Location & Latitude & Longitude & Year.Start & Year.End\\\\\n",
       "\\hline\n",
       "\t203 & Springfield - Holyoke, MA         & WGGB-TV                           & 40 (40)                           & 1998-2007                         &  460                              & 42.241667; -72.649167             & 42.24167                          &  -72.64917                        & 1998                              & 2007                             \\\\\n",
       "\t207 & Kansas City, Missouri             & KSMO-TV                           & 62 (47)                           & 1996-2005                         & 1000                              & 39.090500; -94.472000             & 39.09050                          &  -94.47200                        & 1996                              & 2005                             \\\\\n",
       "\t208 & Plattsburgh, NY - Burlington, VT  & WPTZ                              & 5 (14)                            & 1997-1998                         &  650                              & 44.52556; -72.81556               & 44.52556                          &  -72.81556                        & 1997                              & 1998                             \\\\\n",
       "\t194 & Colorado Springs - Pueblo, CO     & KXRM-TV                           & 21 (22)                           & 2013-2014                         &   51                              & 38.745389; -104.860889            & 38.74539                          & -104.86089                        & 2013                              & 2014                             \\\\\n",
       "\t197 & Tallahassee, FL - Thomasville, GA & WTXL-TV                           & 27 (27)                           & 2001-2006                         & 1000                              & 30.66833; -83.96944               & 30.66833                          &  -83.96944                        & 2001                              & 2006                             \\\\\n",
       "\\end{tabular}\n"
      ],
      "text/markdown": [
       "\n",
       "| <!--/--> | Market | Station | Channel.RF. | Year | Power.kW | Location | Latitude | Longitude | Year.Start | Year.End | \n",
       "|---|---|---|---|---|\n",
       "| 203 | Springfield - Holyoke, MA         | WGGB-TV                           | 40 (40)                           | 1998-2007                         |  460                              | 42.241667; -72.649167             | 42.24167                          |  -72.64917                        | 1998                              | 2007                              | \n",
       "| 207 | Kansas City, Missouri             | KSMO-TV                           | 62 (47)                           | 1996-2005                         | 1000                              | 39.090500; -94.472000             | 39.09050                          |  -94.47200                        | 1996                              | 2005                              | \n",
       "| 208 | Plattsburgh, NY - Burlington, VT  | WPTZ                              | 5 (14)                            | 1997-1998                         |  650                              | 44.52556; -72.81556               | 44.52556                          |  -72.81556                        | 1997                              | 1998                              | \n",
       "| 194 | Colorado Springs - Pueblo, CO     | KXRM-TV                           | 21 (22)                           | 2013-2014                         |   51                              | 38.745389; -104.860889            | 38.74539                          | -104.86089                        | 2013                              | 2014                              | \n",
       "| 197 | Tallahassee, FL - Thomasville, GA | WTXL-TV                           | 27 (27)                           | 2001-2006                         | 1000                              | 30.66833; -83.96944               | 30.66833                          |  -83.96944                        | 2001                              | 2006                              | \n",
       "\n",
       "\n"
      ],
      "text/plain": [
       "    Market                            Station Channel.RF. Year      Power.kW\n",
       "203 Springfield - Holyoke, MA         WGGB-TV 40 (40)     1998-2007  460    \n",
       "207 Kansas City, Missouri             KSMO-TV 62 (47)     1996-2005 1000    \n",
       "208 Plattsburgh, NY - Burlington, VT  WPTZ    5 (14)      1997-1998  650    \n",
       "194 Colorado Springs - Pueblo, CO     KXRM-TV 21 (22)     2013-2014   51    \n",
       "197 Tallahassee, FL - Thomasville, GA WTXL-TV 27 (27)     2001-2006 1000    \n",
       "    Location               Latitude Longitude  Year.Start Year.End\n",
       "203 42.241667; -72.649167  42.24167  -72.64917 1998       2007    \n",
       "207 39.090500; -94.472000  39.09050  -94.47200 1996       2005    \n",
       "208 44.52556; -72.81556    44.52556  -72.81556 1997       1998    \n",
       "194 38.745389; -104.860889 38.74539 -104.86089 2013       2014    \n",
       "197 30.66833; -83.96944    30.66833  -83.96944 2001       2006    "
      ]
     },
     "metadata": {},
     "output_type": "display_data"
    }
   ],
   "source": [
    "# Get 5 rows from `sinclair_station_all_df`\n",
    "test_df <- na.omit(sinclair_station_all_df)\n",
    "test_samples <- sample(1:nrow(test_df), 5)\n",
    "\n",
    "test_df[test_samples,]"
   ]
  },
  {
   "cell_type": "markdown",
   "metadata": {},
   "source": [
    "Next, convert the locationo of each station into a `SpatialPoints` object, which is just a list of `Longitude`, `Latitude` pairs:"
   ]
  },
  {
   "cell_type": "code",
   "execution_count": 66,
   "metadata": {
    "scrolled": true
   },
   "outputs": [
    {
     "data": {
      "text/plain": [
       "SpatialPoints:\n",
       "     Longitude Latitude\n",
       "203  -72.64917 42.24167\n",
       "207  -94.47200 39.09050\n",
       "208  -72.81556 44.52556\n",
       "194 -104.86089 38.74539\n",
       "197  -83.96944 30.66833\n",
       "Coordinate Reference System (CRS) arguments: +proj=longlat +datum=WGS84\n",
       "+no_defs +ellps=WGS84 +towgs84=0,0,0 "
      ]
     },
     "metadata": {},
     "output_type": "display_data"
    }
   ],
   "source": [
    "# Convert the data frame to a `SpatialPoints` object\n",
    "test_sh <- SpatialPoints(test_df[test_samples, c(\"Longitude\", \"Latitude\")])\n",
    "\n",
    "# Make sure that the projection from `test_sh` is the same as in `dma_geo_sh`\n",
    "proj4string(test_sh) <- proj4string(dma_geo_sh)\n",
    "\n",
    "test_sh"
   ]
  },
  {
   "cell_type": "markdown",
   "metadata": {},
   "source": [
    "Finally, use the `over()` function see which DMAs belong to which station:"
   ]
  },
  {
   "cell_type": "code",
   "execution_count": 67,
   "metadata": {},
   "outputs": [
    {
     "data": {
      "text/html": [
       "<table>\n",
       "<thead><tr><th></th><th scope=col>name</th><th scope=col>latitude</th><th scope=col>tvperc</th><th scope=col>dma</th><th scope=col>dma1</th><th scope=col>cableperc</th><th scope=col>adsperc</th><th scope=col>longitude</th></tr></thead>\n",
       "<tbody>\n",
       "\t<tr><th scope=row>203</th><td>dma:                           </td><td>42.38569                       </td><td>94.8                           </td><td>543                            </td><td>Springfield-Holyoke, MA        </td><td>81.5                           </td><td>14.0                           </td><td> -72.60171                     </td></tr>\n",
       "\t<tr><th scope=row>207</th><td>dma:                           </td><td>39.30423                       </td><td>87.2                           </td><td>616                            </td><td>Kansas City, MO                </td><td>62.7                           </td><td>24.7                           </td><td> -94.20899                     </td></tr>\n",
       "\t<tr><th scope=row>208</th><td>dma:                           </td><td>44.07130                       </td><td>90.8                           </td><td>523                            </td><td>Burlington, VT-Plattsburgh, NY </td><td>52.5                           </td><td>38.7                           </td><td> -73.03687                     </td></tr>\n",
       "\t<tr><th scope=row>194</th><td>dma:                           </td><td>38.06138                       </td><td>86.5                           </td><td>752                            </td><td>Colorado Springs-Pueblo, CO    </td><td>43.6                           </td><td>43.5                           </td><td>-104.02717                     </td></tr>\n",
       "\t<tr><th scope=row>197</th><td>dma:                           </td><td>30.46230                       </td><td>93.0                           </td><td>530                            </td><td>Tallahassee, FL-Thomasville, GA</td><td>55.1                           </td><td>38.6                           </td><td> -83.67571                     </td></tr>\n",
       "</tbody>\n",
       "</table>\n"
      ],
      "text/latex": [
       "\\begin{tabular}{r|llllllll}\n",
       "  & name & latitude & tvperc & dma & dma1 & cableperc & adsperc & longitude\\\\\n",
       "\\hline\n",
       "\t203 & dma:                            & 42.38569                        & 94.8                            & 543                             & Springfield-Holyoke, MA         & 81.5                            & 14.0                            &  -72.60171                     \\\\\n",
       "\t207 & dma:                            & 39.30423                        & 87.2                            & 616                             & Kansas City, MO                 & 62.7                            & 24.7                            &  -94.20899                     \\\\\n",
       "\t208 & dma:                            & 44.07130                        & 90.8                            & 523                             & Burlington, VT-Plattsburgh, NY  & 52.5                            & 38.7                            &  -73.03687                     \\\\\n",
       "\t194 & dma:                            & 38.06138                        & 86.5                            & 752                             & Colorado Springs-Pueblo, CO     & 43.6                            & 43.5                            & -104.02717                     \\\\\n",
       "\t197 & dma:                            & 30.46230                        & 93.0                            & 530                             & Tallahassee, FL-Thomasville, GA & 55.1                            & 38.6                            &  -83.67571                     \\\\\n",
       "\\end{tabular}\n"
      ],
      "text/markdown": [
       "\n",
       "| <!--/--> | name | latitude | tvperc | dma | dma1 | cableperc | adsperc | longitude | \n",
       "|---|---|---|---|---|\n",
       "| 203 | dma:                            | 42.38569                        | 94.8                            | 543                             | Springfield-Holyoke, MA         | 81.5                            | 14.0                            |  -72.60171                      | \n",
       "| 207 | dma:                            | 39.30423                        | 87.2                            | 616                             | Kansas City, MO                 | 62.7                            | 24.7                            |  -94.20899                      | \n",
       "| 208 | dma:                            | 44.07130                        | 90.8                            | 523                             | Burlington, VT-Plattsburgh, NY  | 52.5                            | 38.7                            |  -73.03687                      | \n",
       "| 194 | dma:                            | 38.06138                        | 86.5                            | 752                             | Colorado Springs-Pueblo, CO     | 43.6                            | 43.5                            | -104.02717                      | \n",
       "| 197 | dma:                            | 30.46230                        | 93.0                            | 530                             | Tallahassee, FL-Thomasville, GA | 55.1                            | 38.6                            |  -83.67571                      | \n",
       "\n",
       "\n"
      ],
      "text/plain": [
       "    name latitude tvperc dma dma1                            cableperc adsperc\n",
       "203 dma: 42.38569 94.8   543 Springfield-Holyoke, MA         81.5      14.0   \n",
       "207 dma: 39.30423 87.2   616 Kansas City, MO                 62.7      24.7   \n",
       "208 dma: 44.07130 90.8   523 Burlington, VT-Plattsburgh, NY  52.5      38.7   \n",
       "194 dma: 38.06138 86.5   752 Colorado Springs-Pueblo, CO     43.6      43.5   \n",
       "197 dma: 30.46230 93.0   530 Tallahassee, FL-Thomasville, GA 55.1      38.6   \n",
       "    longitude \n",
       "203  -72.60171\n",
       "207  -94.20899\n",
       "208  -73.03687\n",
       "194 -104.02717\n",
       "197  -83.67571"
      ]
     },
     "metadata": {},
     "output_type": "display_data"
    }
   ],
   "source": [
    "results_df <- test_sh %over% dma_geo_sh\n",
    "results_df"
   ]
  },
  {
   "cell_type": "markdown",
   "metadata": {},
   "source": [
    "Hey, it works! The column `dma1` (the DMA names) from `results_df` matches the `Market` column from `test_df`. And best of all, we didn't need to loop through every DMA polygon and check whether the station we're currently looking at is inside; all of that was done for us.\n",
    "\n",
    "Now, we can define a function that will repeat the work above:"
   ]
  },
  {
   "cell_type": "code",
   "execution_count": 71,
   "metadata": {
    "collapsed": true
   },
   "outputs": [],
   "source": [
    "# A function that looks through `geo_sh` (list of polygons) for the first polygon that\n",
    "# contains the coordinates in `lon` and `lat`. Once found, it extracts the wanted attribute.\n",
    "attribute_of_locations <- function(geo_sh, lon, lat, attribute) {\n",
    "    \n",
    "    # Turn `lon`, `lat` into a `SpatialPoints` object\n",
    "    points_sh <- SpatialPoints(cbind(lon, lat))\n",
    "    proj4string(points_sh) <- proj4string(geo_sh)\n",
    "    \n",
    "    # Overlay `points_sh` on top of `geo_sh`\n",
    "    results_df <- points_sh %over% geo_sh\n",
    "    \n",
    "    results_df[,attribute]\n",
    "}"
   ]
  },
  {
   "cell_type": "markdown",
   "metadata": {},
   "source": [
    "The `attribute_of_locations()` function takes a list of coordinates (in the form of two separate vectors `lon` and `lat`), and for each coordinate, it finds the polygon inside of `geo_sh` that contains the coordinate. After finding the polygon, i it extracts the wanted attribute from that polygon.\n",
    "\n",
    "Onto the long awaited moment! We will use `attrubute_of_locations()` to merge our Sinclair station data and our Nielsen DMA data. The functions `filter()` and `mutate()` will be useful:"
   ]
  },
  {
   "cell_type": "code",
   "execution_count": 75,
   "metadata": {},
   "outputs": [],
   "source": [
    "sinclair_station_dma_df <- sinclair_station_all_df %>% \n",
    "    select(c(\"Market\", \"Station\", \"Latitude\", \"Longitude\", \"Year.Start\", \"Year.End\")) %>%\n",
    "    filter(!is.na(Latitude) & !is.na(Longitude)) %>%\n",
    "    mutate(DMA = attribute_of_locations(dma_geo_sh, Longitude, Latitude, \"dma1\")) %>%\n",
    "    mutate(DMA.Code = attribute_of_locations(dma_geo_sh, Longitude, Latitude, \"dma\"))"
   ]
  },
  {
   "cell_type": "code",
   "execution_count": 76,
   "metadata": {},
   "outputs": [
    {
     "data": {
      "text/html": [
       "<table>\n",
       "<thead><tr><th scope=col>Market</th><th scope=col>Station</th><th scope=col>Latitude</th><th scope=col>Longitude</th><th scope=col>Year.Start</th><th scope=col>Year.End</th><th scope=col>DMA</th><th scope=col>DMA.Code</th></tr></thead>\n",
       "<tbody>\n",
       "\t<tr><td>Birmingham - Tuscaloosa - Anniston, AL     </td><td>WTTO                                       </td><td>33.48458                                   </td><td>-86.80708                                  </td><td>1995                                       </td><td>NA                                         </td><td>Birmingham (Anniston and Tuscaloosa), AL   </td><td>630                                        </td></tr>\n",
       "\t<tr><td>Birmingham - Tuscaloosa - Anniston, AL     </td><td>WABM                                       </td><td>33.48458                                   </td><td>-86.80706                                  </td><td>2001                                       </td><td>NA                                         </td><td>Birmingham (Anniston and Tuscaloosa), AL   </td><td>630                                        </td></tr>\n",
       "\t<tr><td>Birmingham - Tuscaloosa - Anniston, AL     </td><td>WBMA-LD                                    </td><td>33.48458                                   </td><td>-86.80706                                  </td><td>2014                                       </td><td>NA                                         </td><td>Birmingham (Anniston and Tuscaloosa), AL   </td><td>630                                        </td></tr>\n",
       "\t<tr><td><span style=white-space:pre-wrap>Mobile, AL &amp; Pensacola, FL            </span></td><td>WEAR-TV                                                                           </td><td>30.61261                                                                          </td><td>-87.64489                                                                         </td><td>1997                                                                              </td><td>NA                                                                                </td><td>Mobile, AL-Pensacola (Ft. Walton Beach), FL                                       </td><td>686                                                                               </td></tr>\n",
       "\t<tr><td><span style=white-space:pre-wrap>Mobile, AL &amp; Pensacola, FL            </span></td><td>WPMI-TV                                                                           </td><td>30.61139                                                                          </td><td>-87.60733                                                                         </td><td>2012                                                                              </td><td>NA                                                                                </td><td>Mobile, AL-Pensacola (Ft. Walton Beach), FL                                       </td><td>686                                                                               </td></tr>\n",
       "\t<tr><td><span style=white-space:pre-wrap>Mobile, AL &amp; Pensacola, FL            </span></td><td><span style=white-space:pre-wrap>WFGX   </span>                                   </td><td>30.61261                                                                          </td><td>-87.64489                                                                         </td><td>2001                                                                              </td><td>NA                                                                                </td><td>Mobile, AL-Pensacola (Ft. Walton Beach), FL                                       </td><td>686                                                                               </td></tr>\n",
       "</tbody>\n",
       "</table>\n"
      ],
      "text/latex": [
       "\\begin{tabular}{r|llllllll}\n",
       " Market & Station & Latitude & Longitude & Year.Start & Year.End & DMA & DMA.Code\\\\\n",
       "\\hline\n",
       "\t Birmingham - Tuscaloosa - Anniston, AL      & WTTO                                        & 33.48458                                    & -86.80708                                   & 1995                                        & NA                                          & Birmingham (Anniston and Tuscaloosa), AL    & 630                                        \\\\\n",
       "\t Birmingham - Tuscaloosa - Anniston, AL      & WABM                                        & 33.48458                                    & -86.80706                                   & 2001                                        & NA                                          & Birmingham (Anniston and Tuscaloosa), AL    & 630                                        \\\\\n",
       "\t Birmingham - Tuscaloosa - Anniston, AL      & WBMA-LD                                     & 33.48458                                    & -86.80706                                   & 2014                                        & NA                                          & Birmingham (Anniston and Tuscaloosa), AL    & 630                                        \\\\\n",
       "\t Mobile, AL \\& Pensacola, FL                & WEAR-TV                                     & 30.61261                                    & -87.64489                                   & 1997                                        & NA                                          & Mobile, AL-Pensacola (Ft. Walton Beach), FL & 686                                        \\\\\n",
       "\t Mobile, AL \\& Pensacola, FL                & WPMI-TV                                     & 30.61139                                    & -87.60733                                   & 2012                                        & NA                                          & Mobile, AL-Pensacola (Ft. Walton Beach), FL & 686                                        \\\\\n",
       "\t Mobile, AL \\& Pensacola, FL                & WFGX                                        & 30.61261                                    & -87.64489                                   & 2001                                        & NA                                          & Mobile, AL-Pensacola (Ft. Walton Beach), FL & 686                                        \\\\\n",
       "\\end{tabular}\n"
      ],
      "text/markdown": [
       "\n",
       "Market | Station | Latitude | Longitude | Year.Start | Year.End | DMA | DMA.Code | \n",
       "|---|---|---|---|---|---|\n",
       "| Birmingham - Tuscaloosa - Anniston, AL      | WTTO                                        | 33.48458                                    | -86.80708                                   | 1995                                        | NA                                          | Birmingham (Anniston and Tuscaloosa), AL    | 630                                         | \n",
       "| Birmingham - Tuscaloosa - Anniston, AL      | WABM                                        | 33.48458                                    | -86.80706                                   | 2001                                        | NA                                          | Birmingham (Anniston and Tuscaloosa), AL    | 630                                         | \n",
       "| Birmingham - Tuscaloosa - Anniston, AL      | WBMA-LD                                     | 33.48458                                    | -86.80706                                   | 2014                                        | NA                                          | Birmingham (Anniston and Tuscaloosa), AL    | 630                                         | \n",
       "| Mobile, AL & Pensacola, FL                  | WEAR-TV                                     | 30.61261                                    | -87.64489                                   | 1997                                        | NA                                          | Mobile, AL-Pensacola (Ft. Walton Beach), FL | 686                                         | \n",
       "| Mobile, AL & Pensacola, FL                  | WPMI-TV                                     | 30.61139                                    | -87.60733                                   | 2012                                        | NA                                          | Mobile, AL-Pensacola (Ft. Walton Beach), FL | 686                                         | \n",
       "| Mobile, AL & Pensacola, FL                  | WFGX                                        | 30.61261                                    | -87.64489                                   | 2001                                        | NA                                          | Mobile, AL-Pensacola (Ft. Walton Beach), FL | 686                                         | \n",
       "\n",
       "\n"
      ],
      "text/plain": [
       "  Market                                 Station Latitude Longitude Year.Start\n",
       "1 Birmingham - Tuscaloosa - Anniston, AL WTTO    33.48458 -86.80708 1995      \n",
       "2 Birmingham - Tuscaloosa - Anniston, AL WABM    33.48458 -86.80706 2001      \n",
       "3 Birmingham - Tuscaloosa - Anniston, AL WBMA-LD 33.48458 -86.80706 2014      \n",
       "4 Mobile, AL & Pensacola, FL             WEAR-TV 30.61261 -87.64489 1997      \n",
       "5 Mobile, AL & Pensacola, FL             WPMI-TV 30.61139 -87.60733 2012      \n",
       "6 Mobile, AL & Pensacola, FL             WFGX    30.61261 -87.64489 2001      \n",
       "  Year.End DMA                                         DMA.Code\n",
       "1 NA       Birmingham (Anniston and Tuscaloosa), AL    630     \n",
       "2 NA       Birmingham (Anniston and Tuscaloosa), AL    630     \n",
       "3 NA       Birmingham (Anniston and Tuscaloosa), AL    630     \n",
       "4 NA       Mobile, AL-Pensacola (Ft. Walton Beach), FL 686     \n",
       "5 NA       Mobile, AL-Pensacola (Ft. Walton Beach), FL 686     \n",
       "6 NA       Mobile, AL-Pensacola (Ft. Walton Beach), FL 686     "
      ]
     },
     "metadata": {},
     "output_type": "display_data"
    }
   ],
   "source": [
    "head(sinclair_station_dma_df)"
   ]
  },
  {
   "cell_type": "markdown",
   "metadata": {},
   "source": [
    "Now we have an association from each Sinclair TV station to one particular DMA. This is all we need to start answering our questions.\n",
    "\n",
    "### Graphs and Analysis\n",
    "\n",
    "Let's start our analysis by trying to answer question **1**; that is, how many markets has Sinclair operated in over time? Using our merged dataset, we need to look at each DMA and find all the times when Sinclair had at least one station operating. The code below, using `group_by()`, approximates this."
   ]
  },
  {
   "cell_type": "code",
   "execution_count": 77,
   "metadata": {
    "collapsed": true
   },
   "outputs": [],
   "source": [
    "sinclair_dma_df <- sinclair_station_dma_df %>% \n",
    "    group_by(DMA, DMA.Code) %>%\n",
    "    summarize(Year.Start = min(Year.Start), Year.End = max(Year.End))"
   ]
  },
  {
   "cell_type": "code",
   "execution_count": 78,
   "metadata": {},
   "outputs": [
    {
     "data": {
      "text/html": [
       "<table>\n",
       "<thead><tr><th scope=col>DMA</th><th scope=col>DMA.Code</th><th scope=col>Year.Start</th><th scope=col>Year.End</th></tr></thead>\n",
       "<tbody>\n",
       "\t<tr><td>Abilene-Sweetwater, TX     </td><td>662                        </td><td>2017                       </td><td>NA                         </td></tr>\n",
       "\t<tr><td>Albany-Schenectady-Troy, NY</td><td>532                        </td><td>2012                       </td><td>NA                         </td></tr>\n",
       "\t<tr><td>Albany, GA                 </td><td>525                        </td><td>2013                       </td><td>NA                         </td></tr>\n",
       "\t<tr><td>Amarillo, TX               </td><td>634                        </td><td>2013                       </td><td>NA                         </td></tr>\n",
       "\t<tr><td>Austin, TX                 </td><td>635                        </td><td>2012                       </td><td>NA                         </td></tr>\n",
       "\t<tr><td>Bakersfield, CA            </td><td>800                        </td><td>2013                       </td><td>NA                         </td></tr>\n",
       "</tbody>\n",
       "</table>\n"
      ],
      "text/latex": [
       "\\begin{tabular}{r|llll}\n",
       " DMA & DMA.Code & Year.Start & Year.End\\\\\n",
       "\\hline\n",
       "\t Abilene-Sweetwater, TX      & 662                         & 2017                        & NA                         \\\\\n",
       "\t Albany-Schenectady-Troy, NY & 532                         & 2012                        & NA                         \\\\\n",
       "\t Albany, GA                  & 525                         & 2013                        & NA                         \\\\\n",
       "\t Amarillo, TX                & 634                         & 2013                        & NA                         \\\\\n",
       "\t Austin, TX                  & 635                         & 2012                        & NA                         \\\\\n",
       "\t Bakersfield, CA             & 800                         & 2013                        & NA                         \\\\\n",
       "\\end{tabular}\n"
      ],
      "text/markdown": [
       "\n",
       "DMA | DMA.Code | Year.Start | Year.End | \n",
       "|---|---|---|---|---|---|\n",
       "| Abilene-Sweetwater, TX      | 662                         | 2017                        | NA                          | \n",
       "| Albany-Schenectady-Troy, NY | 532                         | 2012                        | NA                          | \n",
       "| Albany, GA                  | 525                         | 2013                        | NA                          | \n",
       "| Amarillo, TX                | 634                         | 2013                        | NA                          | \n",
       "| Austin, TX                  | 635                         | 2012                        | NA                          | \n",
       "| Bakersfield, CA             | 800                         | 2013                        | NA                          | \n",
       "\n",
       "\n"
      ],
      "text/plain": [
       "  DMA                         DMA.Code Year.Start Year.End\n",
       "1 Abilene-Sweetwater, TX      662      2017       NA      \n",
       "2 Albany-Schenectady-Troy, NY 532      2012       NA      \n",
       "3 Albany, GA                  525      2013       NA      \n",
       "4 Amarillo, TX                634      2013       NA      \n",
       "5 Austin, TX                  635      2012       NA      \n",
       "6 Bakersfield, CA             800      2013       NA      "
      ]
     },
     "metadata": {},
     "output_type": "display_data"
    }
   ],
   "source": [
    "head(sinclair_dma_df)"
   ]
  },
  {
   "cell_type": "code",
   "execution_count": 22,
   "metadata": {
    "collapsed": true
   },
   "outputs": [],
   "source": [
    "dma_attributes_path <- \"Interactive_DMA_Map/tv_2017.csv\"\n",
    "dma_attributes_df <- read.csv(dma_attributes_path)\n",
    "colnames(dma_attributes_df) <- c(\"DMA.Code\", \"Rank\", \"DMA\", \"TV.Homes\", \"Percent.of.US\")"
   ]
  },
  {
   "cell_type": "code",
   "execution_count": 23,
   "metadata": {},
   "outputs": [
    {
     "data": {
      "text/html": [
       "<table>\n",
       "<thead><tr><th scope=col>DMA.Code</th><th scope=col>Rank</th><th scope=col>DMA</th><th scope=col>TV.Homes</th><th scope=col>Percent.of.US</th></tr></thead>\n",
       "<tbody>\n",
       "\t<tr><td>662                    </td><td>165                    </td><td>Abilene-Sweetwater     </td><td>113,080                </td><td>0.099                  </td></tr>\n",
       "\t<tr><td>525                    </td><td>152                    </td><td>Albany, GA             </td><td>142,800                </td><td>0.125                  </td></tr>\n",
       "\t<tr><td>532                    </td><td> 59                    </td><td>Albany-Schenectady-Troy</td><td>529,120                </td><td>0.461                  </td></tr>\n",
       "\t<tr><td>790                    </td><td> 48                    </td><td>Albuquerque-Santa Fe   </td><td>677,590                </td><td>0.591                  </td></tr>\n",
       "\t<tr><td>644                    </td><td>179                    </td><td>Alexandria, LA         </td><td>85,560                 </td><td>0.075                  </td></tr>\n",
       "\t<tr><td>583                    </td><td>208                    </td><td>Alpena                 </td><td>16,010                 </td><td>0.014                  </td></tr>\n",
       "</tbody>\n",
       "</table>\n"
      ],
      "text/latex": [
       "\\begin{tabular}{r|lllll}\n",
       " DMA.Code & Rank & DMA & TV.Homes & Percent.of.US\\\\\n",
       "\\hline\n",
       "\t 662                     & 165                     & Abilene-Sweetwater      & 113,080                 & 0.099                  \\\\\n",
       "\t 525                     & 152                     & Albany, GA              & 142,800                 & 0.125                  \\\\\n",
       "\t 532                     &  59                     & Albany-Schenectady-Troy & 529,120                 & 0.461                  \\\\\n",
       "\t 790                     &  48                     & Albuquerque-Santa Fe    & 677,590                 & 0.591                  \\\\\n",
       "\t 644                     & 179                     & Alexandria, LA          & 85,560                  & 0.075                  \\\\\n",
       "\t 583                     & 208                     & Alpena                  & 16,010                  & 0.014                  \\\\\n",
       "\\end{tabular}\n"
      ],
      "text/markdown": [
       "\n",
       "DMA.Code | Rank | DMA | TV.Homes | Percent.of.US | \n",
       "|---|---|---|---|---|---|\n",
       "| 662                     | 165                     | Abilene-Sweetwater      | 113,080                 | 0.099                   | \n",
       "| 525                     | 152                     | Albany, GA              | 142,800                 | 0.125                   | \n",
       "| 532                     |  59                     | Albany-Schenectady-Troy | 529,120                 | 0.461                   | \n",
       "| 790                     |  48                     | Albuquerque-Santa Fe    | 677,590                 | 0.591                   | \n",
       "| 644                     | 179                     | Alexandria, LA          | 85,560                  | 0.075                   | \n",
       "| 583                     | 208                     | Alpena                  | 16,010                  | 0.014                   | \n",
       "\n",
       "\n"
      ],
      "text/plain": [
       "  DMA.Code Rank DMA                     TV.Homes Percent.of.US\n",
       "1 662      165  Abilene-Sweetwater      113,080  0.099        \n",
       "2 525      152  Albany, GA              142,800  0.125        \n",
       "3 532       59  Albany-Schenectady-Troy 529,120  0.461        \n",
       "4 790       48  Albuquerque-Santa Fe    677,590  0.591        \n",
       "5 644      179  Alexandria, LA          85,560   0.075        \n",
       "6 583      208  Alpena                  16,010   0.014        "
      ]
     },
     "metadata": {},
     "output_type": "display_data"
    }
   ],
   "source": [
    "head(dma_attributes_df)"
   ]
  },
  {
   "cell_type": "code",
   "execution_count": 24,
   "metadata": {},
   "outputs": [
    {
     "data": {
      "text/html": [
       "<table>\n",
       "<thead><tr><th scope=col>DMA.Code</th><th scope=col>TV.Homes</th><th scope=col>Percent.of.US</th><th scope=col>Year.Start</th><th scope=col>Year.End</th></tr></thead>\n",
       "<tbody>\n",
       "\t<tr><td>500    </td><td> 383700</td><td>0.335  </td><td>  NA   </td><td>NA     </td></tr>\n",
       "\t<tr><td>503    </td><td> 232910</td><td>0.203  </td><td>2014   </td><td>NA     </td></tr>\n",
       "\t<tr><td>507    </td><td> 340050</td><td>0.296  </td><td>2014   </td><td>NA     </td></tr>\n",
       "\t<tr><td>508    </td><td>1160220</td><td>1.012  </td><td>1991   </td><td>NA     </td></tr>\n",
       "\t<tr><td>511    </td><td>2476680</td><td>2.159  </td><td>2014   </td><td>NA     </td></tr>\n",
       "\t<tr><td>512    </td><td>1119480</td><td>0.976  </td><td>1971   </td><td>NA     </td></tr>\n",
       "</tbody>\n",
       "</table>\n"
      ],
      "text/latex": [
       "\\begin{tabular}{r|lllll}\n",
       " DMA.Code & TV.Homes & Percent.of.US & Year.Start & Year.End\\\\\n",
       "\\hline\n",
       "\t 500     &  383700 & 0.335   &   NA    & NA     \\\\\n",
       "\t 503     &  232910 & 0.203   & 2014    & NA     \\\\\n",
       "\t 507     &  340050 & 0.296   & 2014    & NA     \\\\\n",
       "\t 508     & 1160220 & 1.012   & 1991    & NA     \\\\\n",
       "\t 511     & 2476680 & 2.159   & 2014    & NA     \\\\\n",
       "\t 512     & 1119480 & 0.976   & 1971    & NA     \\\\\n",
       "\\end{tabular}\n"
      ],
      "text/markdown": [
       "\n",
       "DMA.Code | TV.Homes | Percent.of.US | Year.Start | Year.End | \n",
       "|---|---|---|---|---|---|\n",
       "| 500     |  383700 | 0.335   |   NA    | NA      | \n",
       "| 503     |  232910 | 0.203   | 2014    | NA      | \n",
       "| 507     |  340050 | 0.296   | 2014    | NA      | \n",
       "| 508     | 1160220 | 1.012   | 1991    | NA      | \n",
       "| 511     | 2476680 | 2.159   | 2014    | NA      | \n",
       "| 512     | 1119480 | 0.976   | 1971    | NA      | \n",
       "\n",
       "\n"
      ],
      "text/plain": [
       "  DMA.Code TV.Homes Percent.of.US Year.Start Year.End\n",
       "1 500       383700  0.335           NA       NA      \n",
       "2 503       232910  0.203         2014       NA      \n",
       "3 507       340050  0.296         2014       NA      \n",
       "4 508      1160220  1.012         1991       NA      \n",
       "5 511      2476680  2.159         2014       NA      \n",
       "6 512      1119480  0.976         1971       NA      "
      ]
     },
     "metadata": {},
     "output_type": "display_data"
    }
   ],
   "source": [
    "sinclair_dma_attr_df <- merge(dma_attributes_df[c(\"DMA.Code\", \"TV.Homes\", \"Percent.of.US\")], \n",
    "                              sinclair_dma_df[c(\"DMA.Code\", \"Year.Start\", \"Year.End\")], \n",
    "                              by = \"DMA.Code\")\n",
    "sinclair_dma_attr_df$TV.Homes <- gsub(\",\", \"\", sinclair_dma_attr_df$TV.Homes)\n",
    "sinclair_dma_attr_df$TV.Homes <- as.numeric(as.character(sinclair_dma_attr_df$TV.Homes))\n",
    "head(sinclair_dma_attr_df)"
   ]
  },
  {
   "cell_type": "code",
   "execution_count": 25,
   "metadata": {},
   "outputs": [
    {
     "data": {
      "text/html": [
       "<dl class=dl-horizontal>\n",
       "\t<dt>DMA.Code</dt>\n",
       "\t\t<dd>'integer'</dd>\n",
       "\t<dt>TV.Homes</dt>\n",
       "\t\t<dd>'numeric'</dd>\n",
       "\t<dt>Percent.of.US</dt>\n",
       "\t\t<dd>'numeric'</dd>\n",
       "\t<dt>Year.Start</dt>\n",
       "\t\t<dd>'numeric'</dd>\n",
       "\t<dt>Year.End</dt>\n",
       "\t\t<dd>'numeric'</dd>\n",
       "</dl>\n"
      ],
      "text/latex": [
       "\\begin{description*}\n",
       "\\item[DMA.Code] 'integer'\n",
       "\\item[TV.Homes] 'numeric'\n",
       "\\item[Percent.of.US] 'numeric'\n",
       "\\item[Year.Start] 'numeric'\n",
       "\\item[Year.End] 'numeric'\n",
       "\\end{description*}\n"
      ],
      "text/markdown": [
       "DMA.Code\n",
       ":   'integer'TV.Homes\n",
       ":   'numeric'Percent.of.US\n",
       ":   'numeric'Year.Start\n",
       ":   'numeric'Year.End\n",
       ":   'numeric'\n",
       "\n"
      ],
      "text/plain": [
       "     DMA.Code      TV.Homes Percent.of.US    Year.Start      Year.End \n",
       "    \"integer\"     \"numeric\"     \"numeric\"     \"numeric\"     \"numeric\" "
      ]
     },
     "metadata": {},
     "output_type": "display_data"
    }
   ],
   "source": [
    "sapply(sinclair_dma_attr_df, class)"
   ]
  },
  {
   "cell_type": "code",
   "execution_count": 26,
   "metadata": {
    "collapsed": true
   },
   "outputs": [],
   "source": [
    "# Get temporal limits of the data\n",
    "max_year <- max(sinclair_dma_attr_df$Year.Start, na.rm = TRUE)\n",
    "min_year <- min(sinclair_dma_attr_df$Year.Start, na.rm = TRUE)\n",
    "\n",
    "# Get rid of data that has missing year values\n",
    "no_na_year_df <- sinclair_dma_attr_df %>% filter(!is.na(Year.Start))\n",
    "\n",
    "# Create aliases for the two year columns\n",
    "start_year <- no_na_year_df$Year.Start\n",
    "end_year <- no_na_year_df$Year.End\n",
    "\n",
    "# Make a new data.frame and fill it using a for-loop\n",
    "# This is a slow way to do it but our dataset is not huge \n",
    "sinclair_population_df <- data.frame()\n",
    "for(year in min_year:max_year) {\n",
    "    # Generate the station count\n",
    "    # Remember to take care of possible NA values in `end_year`\n",
    "    new_row <- sinclair_dma_attr_df %>%\n",
    "        filter( Year.Start <= year & (Year.End >= year | is.na(Year.End)) ) %>%\n",
    "        summarize(TV.Homes.Tot = sum(TV.Homes), Percent.of.US.Tot = sum(Percent.of.US))\n",
    "    new_row$Year = c(year)\n",
    "    sinclair_population_df <- rbind(sinclair_population_df, new_row)\n",
    "}"
   ]
  },
  {
   "cell_type": "code",
   "execution_count": 27,
   "metadata": {
    "scrolled": false
   },
   "outputs": [
    {
     "data": {
      "text/html": [
       "<table>\n",
       "<thead><tr><th></th><th scope=col>TV.Homes.Tot</th><th scope=col>Percent.of.US.Tot</th><th scope=col>Year</th></tr></thead>\n",
       "<tbody>\n",
       "\t<tr><th scope=row>30</th><td>25234410</td><td>22.001  </td><td>2000    </td></tr>\n",
       "\t<tr><th scope=row>2</th><td> 1119480</td><td> 0.976  </td><td>1972    </td></tr>\n",
       "\t<tr><th scope=row>17</th><td> 2040220</td><td> 1.779  </td><td>1987    </td></tr>\n",
       "\t<tr><th scope=row>21</th><td> 5109030</td><td> 4.455  </td><td>1991    </td></tr>\n",
       "\t<tr><th scope=row>26</th><td>14184640</td><td>12.368  </td><td>1996    </td></tr>\n",
       "</tbody>\n",
       "</table>\n"
      ],
      "text/latex": [
       "\\begin{tabular}{r|lll}\n",
       "  & TV.Homes.Tot & Percent.of.US.Tot & Year\\\\\n",
       "\\hline\n",
       "\t30 & 25234410 & 22.001   & 2000    \\\\\n",
       "\t2 &  1119480 &  0.976   & 1972    \\\\\n",
       "\t17 &  2040220 &  1.779   & 1987    \\\\\n",
       "\t21 &  5109030 &  4.455   & 1991    \\\\\n",
       "\t26 & 14184640 & 12.368   & 1996    \\\\\n",
       "\\end{tabular}\n"
      ],
      "text/markdown": [
       "\n",
       "| <!--/--> | TV.Homes.Tot | Percent.of.US.Tot | Year | \n",
       "|---|---|---|---|---|\n",
       "| 30 | 25234410 | 22.001   | 2000     | \n",
       "| 2 |  1119480 |  0.976   | 1972     | \n",
       "| 17 |  2040220 |  1.779   | 1987     | \n",
       "| 21 |  5109030 |  4.455   | 1991     | \n",
       "| 26 | 14184640 | 12.368   | 1996     | \n",
       "\n",
       "\n"
      ],
      "text/plain": [
       "   TV.Homes.Tot Percent.of.US.Tot Year\n",
       "30 25234410     22.001            2000\n",
       "2   1119480      0.976            1972\n",
       "17  2040220      1.779            1987\n",
       "21  5109030      4.455            1991\n",
       "26 14184640     12.368            1996"
      ]
     },
     "metadata": {},
     "output_type": "display_data"
    }
   ],
   "source": [
    "sinclair_population_df[sample(1:nrow(sinclair_population_df), 5),]"
   ]
  },
  {
   "cell_type": "code",
   "execution_count": 46,
   "metadata": {},
   "outputs": [
    {
     "data": {},
     "metadata": {},
     "output_type": "display_data"
    },
    {
     "data": {
      "image/png": "[encoded data removed]",
      "text/plain": [
       "plot without title"
      ]
     },
     "metadata": {},
     "output_type": "display_data"
    }
   ],
   "source": [
    "# Create the plot\n",
    "sinclair_population_plot <- ggplot(data = sinclair_population_df) +\n",
    "    geom_line(aes(x = Year, y = Percent.of.US.Tot), color = brewer.pal(3, \"Set2\")[2]) +\n",
    "    ggtitle(\"Sinclair Viewership\") + \n",
    "    xlab(\"Year\") + ylab(\"Percent of USA Population\") +\n",
    "    theme(plot.title = element_text(color=\"#666666\", face=\"bold\", size=20))\n",
    "\n",
    "sinclair_population_plot"
   ]
  },
  {
   "cell_type": "markdown",
   "metadata": {},
   "source": [
    "As we can see, this plot shows a very similar story compared to its earlier counterpart in **Sinclair Station Exploration**. Points of highest slope appear during large acquisitions in the mid-90s and 2011-2013. The last 5 years contain the all-time maximum:"
   ]
  },
  {
   "cell_type": "code",
   "execution_count": 43,
   "metadata": {
    "scrolled": true
   },
   "outputs": [
    {
     "data": {
      "text/html": [
       "<ol class=list-inline>\n",
       "\t<li>31.055</li>\n",
       "\t<li>36.287</li>\n",
       "\t<li>34.314</li>\n",
       "\t<li>34.828</li>\n",
       "\t<li>35.494</li>\n",
       "</ol>\n"
      ],
      "text/latex": [
       "\\begin{enumerate*}\n",
       "\\item 31.055\n",
       "\\item 36.287\n",
       "\\item 34.314\n",
       "\\item 34.828\n",
       "\\item 35.494\n",
       "\\end{enumerate*}\n"
      ],
      "text/markdown": [
       "1. 31.055\n",
       "2. 36.287\n",
       "3. 34.314\n",
       "4. 34.828\n",
       "5. 35.494\n",
       "\n",
       "\n"
      ],
      "text/plain": [
       "[1] 31.055 36.287 34.314 34.828 35.494"
      ]
     },
     "metadata": {},
     "output_type": "display_data"
    }
   ],
   "source": [
    "tail(sinclair_population_df$Percent.of.US.Tot, n = 5)"
   ]
  },
  {
   "cell_type": "code",
   "execution_count": 29,
   "metadata": {},
   "outputs": [
    {
     "data": {
      "text/html": [
       "36.287"
      ],
      "text/latex": [
       "36.287"
      ],
      "text/markdown": [
       "36.287"
      ],
      "text/plain": [
       "[1] 36.287"
      ]
     },
     "metadata": {},
     "output_type": "display_data"
    }
   ],
   "source": [
    "max(sinclair_population_df$Percent.of.US.Tot)"
   ]
  },
  {
   "cell_type": "markdown",
   "metadata": {},
   "source": [
    "So, currently, Sinclair Broadcast delivers local news to 35.494% of the US population. This number was highest in 2014 with a value of 36.287%."
   ]
  },
  {
   "cell_type": "code",
   "execution_count": 30,
   "metadata": {},
   "outputs": [
    {
     "data": {
      "text/html": [
       "41619730"
      ],
      "text/latex": [
       "41619730"
      ],
      "text/markdown": [
       "41619730"
      ],
      "text/plain": [
       "[1] 41619730"
      ]
     },
     "metadata": {},
     "output_type": "display_data"
    }
   ],
   "source": [
    "max(sinclair_population_df$TV.Homes.Tot)"
   ]
  },
  {
   "cell_type": "markdown",
   "metadata": {},
   "source": [
    "Nielson estimates the total number of TV homes for the 2016-2017 period is 118.4 million. Using this we number we validate our previous estimate because 41,619,730 / 118,400,000 = 0.3515 = 35.15%. The numbers differ slightly because not every \"TV Home\" will have the same number of people in it."
   ]
  },
  {
   "cell_type": "code",
   "execution_count": 31,
   "metadata": {
    "scrolled": true
   },
   "outputs": [
    {
     "data": {
      "text/html": [
       "<table>\n",
       "<thead><tr><th scope=col>id</th><th scope=col>long</th><th scope=col>lat</th><th scope=col>order</th><th scope=col>hole</th><th scope=col>piece</th><th scope=col>group</th><th scope=col>name</th><th scope=col>latitude</th><th scope=col>tvperc</th><th scope=col>dma</th><th scope=col>dma1</th><th scope=col>cableperc</th><th scope=col>adsperc</th><th scope=col>longitude</th></tr></thead>\n",
       "<tbody>\n",
       "\t<tr><td>500                </td><td>-70.97725          </td><td>43.35754           </td><td>1                  </td><td>FALSE              </td><td>1                  </td><td>500.1              </td><td>dma:               </td><td>44.36667           </td><td>91.3               </td><td>500                </td><td>Portland-Auburn, ME</td><td>67.9               </td><td>23.7               </td><td>-70.18301          </td></tr>\n",
       "\t<tr><td>500                </td><td>-70.95991          </td><td>43.54138           </td><td>2                  </td><td>FALSE              </td><td>1                  </td><td>500.1              </td><td>dma:               </td><td>44.36667           </td><td>91.3               </td><td>500                </td><td>Portland-Auburn, ME</td><td>67.9               </td><td>23.7               </td><td>-70.18301          </td></tr>\n",
       "\t<tr><td>500                </td><td>-71.11016          </td><td>43.50660           </td><td>3                  </td><td>FALSE              </td><td>1                  </td><td>500.1              </td><td>dma:               </td><td>44.36667           </td><td>91.3               </td><td>500                </td><td>Portland-Auburn, ME</td><td>67.9               </td><td>23.7               </td><td>-70.18301          </td></tr>\n",
       "\t<tr><td>500                </td><td>-71.12750          </td><td>43.57367           </td><td>4                  </td><td>FALSE              </td><td>1                  </td><td>500.1              </td><td>dma:               </td><td>44.36667           </td><td>91.3               </td><td>500                </td><td>Portland-Auburn, ME</td><td>67.9               </td><td>23.7               </td><td>-70.18301          </td></tr>\n",
       "\t<tr><td>500                </td><td>-71.26042          </td><td>43.57119           </td><td>5                  </td><td>FALSE              </td><td>1                  </td><td>500.1              </td><td>dma:               </td><td>44.36667           </td><td>91.3               </td><td>500                </td><td>Portland-Auburn, ME</td><td>67.9               </td><td>23.7               </td><td>-70.18301          </td></tr>\n",
       "\t<tr><td>500                </td><td>-71.53203          </td><td>43.76496           </td><td>6                  </td><td>FALSE              </td><td>1                  </td><td>500.1              </td><td>dma:               </td><td>44.36667           </td><td>91.3               </td><td>500                </td><td>Portland-Auburn, ME</td><td>67.9               </td><td>23.7               </td><td>-70.18301          </td></tr>\n",
       "</tbody>\n",
       "</table>\n"
      ],
      "text/latex": [
       "\\begin{tabular}{r|lllllllllllllll}\n",
       " id & long & lat & order & hole & piece & group & name & latitude & tvperc & dma & dma1 & cableperc & adsperc & longitude\\\\\n",
       "\\hline\n",
       "\t 500                 & -70.97725           & 43.35754            & 1                   & FALSE               & 1                   & 500.1               & dma:                & 44.36667            & 91.3                & 500                 & Portland-Auburn, ME & 67.9                & 23.7                & -70.18301          \\\\\n",
       "\t 500                 & -70.95991           & 43.54138            & 2                   & FALSE               & 1                   & 500.1               & dma:                & 44.36667            & 91.3                & 500                 & Portland-Auburn, ME & 67.9                & 23.7                & -70.18301          \\\\\n",
       "\t 500                 & -71.11016           & 43.50660            & 3                   & FALSE               & 1                   & 500.1               & dma:                & 44.36667            & 91.3                & 500                 & Portland-Auburn, ME & 67.9                & 23.7                & -70.18301          \\\\\n",
       "\t 500                 & -71.12750           & 43.57367            & 4                   & FALSE               & 1                   & 500.1               & dma:                & 44.36667            & 91.3                & 500                 & Portland-Auburn, ME & 67.9                & 23.7                & -70.18301          \\\\\n",
       "\t 500                 & -71.26042           & 43.57119            & 5                   & FALSE               & 1                   & 500.1               & dma:                & 44.36667            & 91.3                & 500                 & Portland-Auburn, ME & 67.9                & 23.7                & -70.18301          \\\\\n",
       "\t 500                 & -71.53203           & 43.76496            & 6                   & FALSE               & 1                   & 500.1               & dma:                & 44.36667            & 91.3                & 500                 & Portland-Auburn, ME & 67.9                & 23.7                & -70.18301          \\\\\n",
       "\\end{tabular}\n"
      ],
      "text/markdown": [
       "\n",
       "id | long | lat | order | hole | piece | group | name | latitude | tvperc | dma | dma1 | cableperc | adsperc | longitude | \n",
       "|---|---|---|---|---|---|\n",
       "| 500                 | -70.97725           | 43.35754            | 1                   | FALSE               | 1                   | 500.1               | dma:                | 44.36667            | 91.3                | 500                 | Portland-Auburn, ME | 67.9                | 23.7                | -70.18301           | \n",
       "| 500                 | -70.95991           | 43.54138            | 2                   | FALSE               | 1                   | 500.1               | dma:                | 44.36667            | 91.3                | 500                 | Portland-Auburn, ME | 67.9                | 23.7                | -70.18301           | \n",
       "| 500                 | -71.11016           | 43.50660            | 3                   | FALSE               | 1                   | 500.1               | dma:                | 44.36667            | 91.3                | 500                 | Portland-Auburn, ME | 67.9                | 23.7                | -70.18301           | \n",
       "| 500                 | -71.12750           | 43.57367            | 4                   | FALSE               | 1                   | 500.1               | dma:                | 44.36667            | 91.3                | 500                 | Portland-Auburn, ME | 67.9                | 23.7                | -70.18301           | \n",
       "| 500                 | -71.26042           | 43.57119            | 5                   | FALSE               | 1                   | 500.1               | dma:                | 44.36667            | 91.3                | 500                 | Portland-Auburn, ME | 67.9                | 23.7                | -70.18301           | \n",
       "| 500                 | -71.53203           | 43.76496            | 6                   | FALSE               | 1                   | 500.1               | dma:                | 44.36667            | 91.3                | 500                 | Portland-Auburn, ME | 67.9                | 23.7                | -70.18301           | \n",
       "\n",
       "\n"
      ],
      "text/plain": [
       "  id  long      lat      order hole  piece group name latitude tvperc dma\n",
       "1 500 -70.97725 43.35754 1     FALSE 1     500.1 dma: 44.36667 91.3   500\n",
       "2 500 -70.95991 43.54138 2     FALSE 1     500.1 dma: 44.36667 91.3   500\n",
       "3 500 -71.11016 43.50660 3     FALSE 1     500.1 dma: 44.36667 91.3   500\n",
       "4 500 -71.12750 43.57367 4     FALSE 1     500.1 dma: 44.36667 91.3   500\n",
       "5 500 -71.26042 43.57119 5     FALSE 1     500.1 dma: 44.36667 91.3   500\n",
       "6 500 -71.53203 43.76496 6     FALSE 1     500.1 dma: 44.36667 91.3   500\n",
       "  dma1                cableperc adsperc longitude\n",
       "1 Portland-Auburn, ME 67.9      23.7    -70.18301\n",
       "2 Portland-Auburn, ME 67.9      23.7    -70.18301\n",
       "3 Portland-Auburn, ME 67.9      23.7    -70.18301\n",
       "4 Portland-Auburn, ME 67.9      23.7    -70.18301\n",
       "5 Portland-Auburn, ME 67.9      23.7    -70.18301\n",
       "6 Portland-Auburn, ME 67.9      23.7    -70.18301"
      ]
     },
     "metadata": {},
     "output_type": "display_data"
    }
   ],
   "source": [
    "head(dma_geo_df)"
   ]
  },
  {
   "cell_type": "code",
   "execution_count": 32,
   "metadata": {
    "collapsed": true
   },
   "outputs": [],
   "source": [
    "sinclair_final_df <- merge(sinclair_dma_df, dma_geo_df, by.x = \"DMA\", by.y = \"dma1\")\n",
    "sinclair_final_df <- sinclair_final_df %>%\n",
    "    select(DMA, id, long, lat, order, hole, piece, group, Year.Start, Year.End)\n",
    "sinclair_final_df <- sinclair_final_df[order(sinclair_final_df$id, sinclair_final_df$order),]"
   ]
  },
  {
   "cell_type": "code",
   "execution_count": 33,
   "metadata": {},
   "outputs": [
    {
     "data": {
      "text/html": [
       "<table>\n",
       "<thead><tr><th></th><th scope=col>DMA</th><th scope=col>id</th><th scope=col>long</th><th scope=col>lat</th><th scope=col>order</th><th scope=col>hole</th><th scope=col>piece</th><th scope=col>group</th><th scope=col>Year.Start</th><th scope=col>Year.End</th></tr></thead>\n",
       "<tbody>\n",
       "\t<tr><th scope=row>3227</th><td>Portland-Auburn, ME</td><td>500                </td><td>-70.97725          </td><td>43.35754           </td><td>1                  </td><td>FALSE              </td><td>1                  </td><td>500.1              </td><td>NA                 </td><td>NA                 </td></tr>\n",
       "\t<tr><th scope=row>3167</th><td>Portland-Auburn, ME</td><td>500                </td><td>-70.95991          </td><td>43.54138           </td><td>2                  </td><td>FALSE              </td><td>1                  </td><td>500.1              </td><td>NA                 </td><td>NA                 </td></tr>\n",
       "\t<tr><th scope=row>3316</th><td>Portland-Auburn, ME</td><td>500                </td><td>-71.11016          </td><td>43.50660           </td><td>3                  </td><td>FALSE              </td><td>1                  </td><td>500.1              </td><td>NA                 </td><td>NA                 </td></tr>\n",
       "\t<tr><th scope=row>3277</th><td>Portland-Auburn, ME</td><td>500                </td><td>-71.12750          </td><td>43.57367           </td><td>4                  </td><td>FALSE              </td><td>1                  </td><td>500.1              </td><td>NA                 </td><td>NA                 </td></tr>\n",
       "\t<tr><th scope=row>3278</th><td>Portland-Auburn, ME</td><td>500                </td><td>-71.26042          </td><td>43.57119           </td><td>5                  </td><td>FALSE              </td><td>1                  </td><td>500.1              </td><td>NA                 </td><td>NA                 </td></tr>\n",
       "\t<tr><th scope=row>3209</th><td>Portland-Auburn, ME</td><td>500                </td><td>-71.53203          </td><td>43.76496           </td><td>6                  </td><td>FALSE              </td><td>1                  </td><td>500.1              </td><td>NA                 </td><td>NA                 </td></tr>\n",
       "</tbody>\n",
       "</table>\n"
      ],
      "text/latex": [
       "\\begin{tabular}{r|llllllllll}\n",
       "  & DMA & id & long & lat & order & hole & piece & group & Year.Start & Year.End\\\\\n",
       "\\hline\n",
       "\t3227 & Portland-Auburn, ME & 500                 & -70.97725           & 43.35754            & 1                   & FALSE               & 1                   & 500.1               & NA                  & NA                 \\\\\n",
       "\t3167 & Portland-Auburn, ME & 500                 & -70.95991           & 43.54138            & 2                   & FALSE               & 1                   & 500.1               & NA                  & NA                 \\\\\n",
       "\t3316 & Portland-Auburn, ME & 500                 & -71.11016           & 43.50660            & 3                   & FALSE               & 1                   & 500.1               & NA                  & NA                 \\\\\n",
       "\t3277 & Portland-Auburn, ME & 500                 & -71.12750           & 43.57367            & 4                   & FALSE               & 1                   & 500.1               & NA                  & NA                 \\\\\n",
       "\t3278 & Portland-Auburn, ME & 500                 & -71.26042           & 43.57119            & 5                   & FALSE               & 1                   & 500.1               & NA                  & NA                 \\\\\n",
       "\t3209 & Portland-Auburn, ME & 500                 & -71.53203           & 43.76496            & 6                   & FALSE               & 1                   & 500.1               & NA                  & NA                 \\\\\n",
       "\\end{tabular}\n"
      ],
      "text/markdown": [
       "\n",
       "| <!--/--> | DMA | id | long | lat | order | hole | piece | group | Year.Start | Year.End | \n",
       "|---|---|---|---|---|---|\n",
       "| 3227 | Portland-Auburn, ME | 500                 | -70.97725           | 43.35754            | 1                   | FALSE               | 1                   | 500.1               | NA                  | NA                  | \n",
       "| 3167 | Portland-Auburn, ME | 500                 | -70.95991           | 43.54138            | 2                   | FALSE               | 1                   | 500.1               | NA                  | NA                  | \n",
       "| 3316 | Portland-Auburn, ME | 500                 | -71.11016           | 43.50660            | 3                   | FALSE               | 1                   | 500.1               | NA                  | NA                  | \n",
       "| 3277 | Portland-Auburn, ME | 500                 | -71.12750           | 43.57367            | 4                   | FALSE               | 1                   | 500.1               | NA                  | NA                  | \n",
       "| 3278 | Portland-Auburn, ME | 500                 | -71.26042           | 43.57119            | 5                   | FALSE               | 1                   | 500.1               | NA                  | NA                  | \n",
       "| 3209 | Portland-Auburn, ME | 500                 | -71.53203           | 43.76496            | 6                   | FALSE               | 1                   | 500.1               | NA                  | NA                  | \n",
       "\n",
       "\n"
      ],
      "text/plain": [
       "     DMA                 id  long      lat      order hole  piece group\n",
       "3227 Portland-Auburn, ME 500 -70.97725 43.35754 1     FALSE 1     500.1\n",
       "3167 Portland-Auburn, ME 500 -70.95991 43.54138 2     FALSE 1     500.1\n",
       "3316 Portland-Auburn, ME 500 -71.11016 43.50660 3     FALSE 1     500.1\n",
       "3277 Portland-Auburn, ME 500 -71.12750 43.57367 4     FALSE 1     500.1\n",
       "3278 Portland-Auburn, ME 500 -71.26042 43.57119 5     FALSE 1     500.1\n",
       "3209 Portland-Auburn, ME 500 -71.53203 43.76496 6     FALSE 1     500.1\n",
       "     Year.Start Year.End\n",
       "3227 NA         NA      \n",
       "3167 NA         NA      \n",
       "3316 NA         NA      \n",
       "3277 NA         NA      \n",
       "3278 NA         NA      \n",
       "3209 NA         NA      "
      ]
     },
     "metadata": {},
     "output_type": "display_data"
    }
   ],
   "source": [
    "head(sinclair_final_df) "
   ]
  },
  {
   "cell_type": "code",
   "execution_count": 34,
   "metadata": {
    "collapsed": true
   },
   "outputs": [],
   "source": [
    "plot_sinclair_dmas <- function(year) {\n",
    "    # Separate the spatial data into four datasets\n",
    "    plot_df <- sinclair_final_df %>%\n",
    "        mutate(Acquired = case_when(\n",
    "            (Year.Start < year) & (Year.End > year | is.na(Year.End)) ~ \"acquired\\nprevious years\",\n",
    "            Year.Start == year ~ \"acquired\\nthis year\",\n",
    "            Year.End == year ~ \"sold\\nthis year\",\n",
    "            TRUE ~ \"not held\")\n",
    "        )\n",
    "    \n",
    "    # We don't want to show the DMAs that were not held during the given year\n",
    "    held_mask <- plot_df$Acquired != \"not held\"\n",
    "    plot_df <- plot_df[held_mask, ]\n",
    "    factor_levels <- c(\"acquired\\nprevious years\", \"acquired\\nthis year\", \"sold\\nthis year\")\n",
    "    plot_df$Acquired <- factor(plot_df$Acquired, levels = factor_levels)\n",
    "    \n",
    "    # Pick some nice colors\n",
    "    nice_colors <- brewer.pal(3, \"Set2\")\n",
    "    \n",
    "    # Make the plot\n",
    "    ggplot() +\n",
    "        coord_map(\"albers\", lat0 = 37.5, lat1 = 29.5) + \n",
    "        geom_polygon(data = dma_geo_df,\n",
    "                     aes(x = long, y = lat, group = group),\n",
    "                     color = \"gray60\") +\n",
    "        geom_polygon(data = plot_df,\n",
    "                     aes(x = long, y = lat, group = group, fill = Acquired),\n",
    "                     color = \"gray60\") +\n",
    "        scale_fill_manual(values = nice_colors, drop = FALSE) +\n",
    "        theme(plot.title = element_text(hjust = 0.1, color=\"#666666\", face=\"bold\", size=20), \n",
    "            axis.text = element_blank(), \n",
    "            axis.line = element_blank(), \n",
    "            axis.ticks = element_blank(),\n",
    "            axis.title = element_blank(),\n",
    "            panel.border = element_blank(),\n",
    "            legend.position = c(0.93, 0.5),\n",
    "            legend.key.size = unit(1, \"cm\"),\n",
    "            legend.text = element_text(size=12),\n",
    "            legend.title = element_text(size=12),\n",
    "            panel.grid = element_blank(),\n",
    "            panel.background = element_blank()) +\n",
    "        ggtitle(paste(\"Sinclair DMAs in\", year))\n",
    "}"
   ]
  },
  {
   "cell_type": "code",
   "execution_count": 35,
   "metadata": {},
   "outputs": [
    {
     "data": {},
     "metadata": {},
     "output_type": "display_data"
    },
    {
     "data": {
      "image/png": "[encoded data removed]",
      "text/plain": [
       "plot without title"
      ]
     },
     "metadata": {},
     "output_type": "display_data"
    }
   ],
   "source": [
    "plot_sinclair_dmas(2013)"
   ]
  },
  {
   "cell_type": "code",
   "execution_count": 47,
   "metadata": {
    "collapsed": true
   },
   "outputs": [],
   "source": [
    "IMAGE_OUTPUT_PATH <- \"Images\""
   ]
  },
  {
   "cell_type": "code",
   "execution_count": 48,
   "metadata": {
    "collapsed": true
   },
   "outputs": [],
   "source": [
    "ggsave(filename = 'Sinclair_Viewership.png', \n",
    "    plot = sinclair_population_plot,\n",
    "    path = IMAGE_OUTPUT_PATH,\n",
    "    width = unit(8, \"cm\"),\n",
    "    height = unit(5, \"cm\"))"
   ]
  },
  {
   "cell_type": "code",
   "execution_count": null,
   "metadata": {
    "collapsed": true
   },
   "outputs": [],
   "source": [
    "max_year <- max(sinclair_final_df$Year.Start, na.rm = TRUE)\n",
    "min_year <- min(sinclair_final_df$Year.Start, na.rm = TRUE)\n",
    "\n",
    "for(year in min_year:max_year) {\n",
    "    image <- plot_sinclair_dmas(year)\n",
    "    image.name <- paste(\"Sinclair_DMAs\", year, sep = \"_\")\n",
    "    image.name <- paste(image.name, \".png\", sep = \"\")\n",
    "    ggsave(filename = image.name, \n",
    "        plot = image,\n",
    "        path = IMAGE_OUTPUT_PATH,\n",
    "        width = unit(14, \"cm\"),\n",
    "        height = unit(10, \"cm\"))\n",
    "}"
   ]
  }
 ],
 "metadata": {
  "kernelspec": {
   "display_name": "R",
   "language": "R",
   "name": "ir"
  },
  "language_info": {
   "codemirror_mode": "r",
   "file_extension": ".r",
   "mimetype": "text/x-r-source",
   "name": "R",
   "pygments_lexer": "r",
   "version": "3.4.1"
  }
 },
 "nbformat": 4,
 "nbformat_minor": 2
}
